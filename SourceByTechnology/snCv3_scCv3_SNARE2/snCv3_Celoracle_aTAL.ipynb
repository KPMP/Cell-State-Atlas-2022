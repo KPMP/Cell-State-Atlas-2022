{
 "cells": [
  {
   "cell_type": "code",
   "execution_count": null,
   "id": "04428a40",
   "metadata": {},
   "outputs": [],
   "source": [
    "import celloracle as co"
   ]
  },
  {
   "cell_type": "code",
   "execution_count": null,
   "id": "2209e63a",
   "metadata": {},
   "outputs": [],
   "source": [
    "co.network_analysis.set_R_path(\"/opt/R/4.0.4/bin/R\")"
   ]
  },
  {
   "cell_type": "code",
   "execution_count": null,
   "id": "fe11e92e",
   "metadata": {},
   "outputs": [],
   "source": [
    "co.test_R_libraries_installation()"
   ]
  },
  {
   "cell_type": "code",
   "execution_count": null,
   "id": "e322c664",
   "metadata": {
    "scrolled": true
   },
   "outputs": [],
   "source": [
    "co.check_python_requirements()"
   ]
  },
  {
   "cell_type": "markdown",
   "id": "29a0be72",
   "metadata": {},
   "source": [
    "# Prepare Base GRN"
   ]
  },
  {
   "cell_type": "code",
   "execution_count": null,
   "id": "e6b013a3",
   "metadata": {},
   "outputs": [],
   "source": [
    "import pandas as pd\n",
    "import numpy as np\n",
    "import matplotlib.pyplot as plt\n",
    "%matplotlib inline\n",
    "\n",
    "import seaborn as sns\n",
    "\n",
    "\n",
    "import os, sys, shutil, importlib, glob\n",
    "from tqdm.notebook import tqdm\n",
    "\n",
    "from celloracle import motif_analysis as ma"
   ]
  },
  {
   "cell_type": "code",
   "execution_count": null,
   "id": "1fbaa6bf",
   "metadata": {},
   "outputs": [],
   "source": [
    "%config InlineBackend.figure_format = 'retina'\n",
    "\n",
    "plt.rcParams['figure.figsize'] = [6, 4.5]\n",
    "plt.rcParams[\"savefig.dpi\"] = 300"
   ]
  },
  {
   "cell_type": "code",
   "execution_count": null,
   "id": "0ecee2f4",
   "metadata": {},
   "outputs": [],
   "source": [
    "# Load scATAC-seq peak list.\n",
    "peaks = pd.read_csv(\"/media/Scratch_SSD_Voyager/Blue/KPMP_10X/KPMP_Ref_analysis_12-2020/Celloracle/all_peaks.csv\", index_col=0)\n",
    "peaks = peaks.x.values\n",
    "peaks"
   ]
  },
  {
   "cell_type": "code",
   "execution_count": null,
   "id": "c4b2df87",
   "metadata": {},
   "outputs": [],
   "source": [
    "# Load cicero coaccess score.\n",
    "cicero_connections = pd.read_csv(\"/media/Scratch_SSD_Voyager/Blue/KPMP_10X/KPMP_Ref_analysis_12-2020/Celloracle/cicero_connections.csv\", index_col=0)\n",
    "cicero_connections.head()"
   ]
  },
  {
   "cell_type": "markdown",
   "id": "3a664d3c",
   "metadata": {},
   "source": [
    "# Make TSS annotation"
   ]
  },
  {
   "cell_type": "code",
   "execution_count": null,
   "id": "ea1fa026",
   "metadata": {},
   "outputs": [],
   "source": [
    "tss_annotated = ma.get_tss_info(peak_str_list=peaks, ref_genome=\"hg38\")"
   ]
  },
  {
   "cell_type": "code",
   "execution_count": null,
   "id": "cf6ddf60",
   "metadata": {},
   "outputs": [],
   "source": [
    "# Check results\n",
    "tss_annotated.tail()"
   ]
  },
  {
   "cell_type": "markdown",
   "id": "c1a5ba39",
   "metadata": {},
   "source": [
    "# Integrate TSS info and cicero connections"
   ]
  },
  {
   "cell_type": "code",
   "execution_count": null,
   "id": "d78cf8bd",
   "metadata": {},
   "outputs": [],
   "source": [
    "integrated = ma.integrate_tss_peak_with_cicero(tss_peak=tss_annotated,\n",
    "                                               cicero_connections=cicero_connections)\n",
    "print(integrated.shape)\n",
    "integrated.head()"
   ]
  },
  {
   "cell_type": "markdown",
   "id": "915e7777",
   "metadata": {},
   "source": [
    "# Filter peaks"
   ]
  },
  {
   "cell_type": "code",
   "execution_count": null,
   "id": "1f67a5aa",
   "metadata": {},
   "outputs": [],
   "source": [
    "#Remove peaks that have weak coaccess score\n",
    "peak = integrated[integrated.coaccess >= 0.8]\n",
    "peak = peak[[\"peak_id\", \"gene_short_name\"]].reset_index(drop=True)"
   ]
  },
  {
   "cell_type": "code",
   "execution_count": null,
   "id": "87c4c1a7",
   "metadata": {},
   "outputs": [],
   "source": [
    "print(peak.shape)\n",
    "peak.head()"
   ]
  },
  {
   "cell_type": "code",
   "execution_count": null,
   "id": "35e900bb",
   "metadata": {},
   "outputs": [],
   "source": [
    "#Save the promoter/enhancer peak.\n",
    "peak.to_csv(\"/media/Scratch_SSD_Voyager/Blue/KPMP_10X/KPMP_Ref_analysis_12-2020/Celloracle2/processed_peak_file.csv\")"
   ]
  },
  {
   "cell_type": "markdown",
   "id": "d49befd8",
   "metadata": {},
   "source": [
    "# Motif Scan"
   ]
  },
  {
   "cell_type": "code",
   "execution_count": null,
   "id": "eee423df",
   "metadata": {},
   "outputs": [],
   "source": [
    "import pandas as pd\n",
    "import numpy as np\n",
    "import matplotlib.pyplot as plt\n",
    "\n",
    "\n",
    "import seaborn as sns\n",
    "\n",
    "import os, sys, shutil, importlib, glob\n",
    "from tqdm.notebook import tqdm\n",
    "from celloracle import motif_analysis as ma\n",
    "from celloracle.utility import save_as_pickled_object\n",
    "%config InlineBackend.figure_format = 'retina'\n",
    "%matplotlib inline\n",
    "\n",
    "plt.rcParams['figure.figsize'] = (15,7)\n",
    "plt.rcParams[\"savefig.dpi\"] = 600"
   ]
  },
  {
   "cell_type": "code",
   "execution_count": null,
   "id": "224243e2",
   "metadata": {},
   "outputs": [],
   "source": [
    "# Reference genome data preparation\n",
    "ref_genome = \"hg38\"\n",
    "import genomepy\n",
    "genomepy.install_genome(\"hg38\", \"UCSC\")"
   ]
  },
  {
   "cell_type": "code",
   "execution_count": null,
   "id": "3be89eca",
   "metadata": {},
   "outputs": [],
   "source": [
    "# Load annotated peak data.\n",
    "peaks = pd.read_csv(\"/media/Scratch_SSD_Voyager/Blue/KPMP_10X/KPMP_Ref_analysis_12-2020/Celloracle2/processed_peak_file.csv\", index_col=0)\n",
    "peaks.head()"
   ]
  },
  {
   "cell_type": "code",
   "execution_count": null,
   "id": "f527e68e",
   "metadata": {},
   "outputs": [],
   "source": [
    "# Define function for quality check\n",
    "def decompose_chrstr(peak_str):\n",
    "    \"\"\"\n",
    "    Args:\n",
    "        peak_str (str): peak_str. e.g. 'chr1_3094484_3095479'\n",
    "\n",
    "    Returns:\n",
    "        tuple: chromosome name, start position, end position\n",
    "    \"\"\"\n",
    "\n",
    "    *chr_, start, end = peak_str.split(\"_\")\n",
    "    chr_ = \"_\".join(chr_)\n",
    "    return chr_, start, end\n",
    "\n",
    "from genomepy import Genome\n",
    "\n",
    "def check_peak_foamat(peaks_df, ref_genome):\n",
    "    \"\"\"\n",
    "    Check peak fomat.\n",
    "     (1) Check chromosome name.\n",
    "     (2) Check peak size (length) and remove sort DNAs (<5bp)\n",
    "\n",
    "    \"\"\"\n",
    "\n",
    "    df = peaks_df.copy()\n",
    "\n",
    "    n_peaks_before = df.shape[0]\n",
    "\n",
    "    # Decompose peaks and make df\n",
    "    decomposed = [decompose_chrstr(peak_str) for peak_str in df[\"peak_id\"]]\n",
    "    df_decomposed = pd.DataFrame(np.array(decomposed))\n",
    "    df_decomposed.columns = [\"chr\", \"start\", \"end\"]\n",
    "    df_decomposed[\"start\"] = df_decomposed[\"start\"].astype(np.int)\n",
    "    df_decomposed[\"end\"] = df_decomposed[\"end\"].astype(np.int)\n",
    "\n",
    "    # Load genome data\n",
    "    genome_data = Genome(ref_genome)\n",
    "    all_chr_list = list(genome_data.keys())\n",
    "\n",
    "\n",
    "    # DNA length check\n",
    "    lengths = np.abs(df_decomposed[\"end\"] - df_decomposed[\"start\"])\n",
    "\n",
    "\n",
    "    # Filter peaks with invalid chromosome name\n",
    "    n_threshold = 5\n",
    "    df = df[(lengths >= n_threshold) & df_decomposed.chr.isin(all_chr_list)]\n",
    "\n",
    "    # DNA length check\n",
    "    lengths = np.abs(df_decomposed[\"end\"] - df_decomposed[\"start\"])\n",
    "\n",
    "    # Data counting\n",
    "    n_invalid_length = len(lengths[lengths < n_threshold])\n",
    "    n_peaks_invalid_chr = n_peaks_before - df_decomposed.chr.isin(all_chr_list).sum()\n",
    "    n_peaks_after = df.shape[0]\n",
    "\n",
    "    #\n",
    "    print(\"Peaks before filtering: \", n_peaks_before)\n",
    "    print(\"Peaks with invalid chr_name: \", n_peaks_invalid_chr)\n",
    "    print(\"Peaks with invalid length: \", n_invalid_length)\n",
    "    print(\"Peaks after filtering: \", n_peaks_after)\n",
    "\n",
    "    return df"
   ]
  },
  {
   "cell_type": "code",
   "execution_count": null,
   "id": "7ad1cd3f",
   "metadata": {},
   "outputs": [],
   "source": [
    "peaks = check_peak_foamat(peaks, ref_genome)"
   ]
  },
  {
   "cell_type": "code",
   "execution_count": null,
   "id": "f0f42828",
   "metadata": {},
   "outputs": [],
   "source": [
    "# Instantiate TFinfo object\n",
    "tfi = ma.TFinfo(peak_data_frame=peaks,\n",
    "                ref_genome=ref_genome)"
   ]
  },
  {
   "cell_type": "code",
   "execution_count": null,
   "id": "b2074a14",
   "metadata": {},
   "outputs": [],
   "source": [
    "%%time\n",
    "# Scan motifs. !!CAUTION!! This step may take several hours if you have many peaks!\n",
    "tfi.scan(fpr=0.02,\n",
    "         motifs=None,  # If you enter None, default motifs will be loaded.\n",
    "         verbose=True)\n",
    "\n",
    "# Save tfinfo object\n",
    "tfi.to_hdf5(file_path=\"/media/Scratch_SSD_Voyager/Blue/KPMP_10X/KPMP_Ref_analysis_12-2020/Celloracle2/celloracle.tfinfo\")"
   ]
  },
  {
   "cell_type": "code",
   "execution_count": null,
   "id": "a9c9091e",
   "metadata": {},
   "outputs": [],
   "source": [
    "# Check motif scan results\n",
    "tfi.scanned_df.head()"
   ]
  },
  {
   "cell_type": "code",
   "execution_count": null,
   "id": "ccb2da15",
   "metadata": {},
   "outputs": [],
   "source": [
    "#Filtering motifs\n",
    "\n",
    "# Reset filtering\n",
    "tfi.reset_filtering()\n",
    "\n",
    "# Do filtering\n",
    "tfi.filter_motifs_by_score(threshold=10)\n",
    "\n",
    "# Do post filtering process. Convert results into several file format.\n",
    "tfi.make_TFinfo_dataframe_and_dictionary(verbose=True)\n"
   ]
  },
  {
   "cell_type": "code",
   "execution_count": null,
   "id": "f09a93da",
   "metadata": {},
   "outputs": [],
   "source": [
    "#Get Final results\n",
    "df = tfi.to_dataframe()\n",
    "df.head()"
   ]
  },
  {
   "cell_type": "code",
   "execution_count": null,
   "id": "1c246456",
   "metadata": {},
   "outputs": [],
   "source": [
    "# Save result as a dataframe\n",
    "df = tfi.to_dataframe()\n",
    "df.to_parquet(\"/media/Scratch_SSD_Voyager/Blue/KPMP_10X/KPMP_Ref_analysis_12-2020/Celloracle2/base_GRN_dataframe.parquet\")\n"
   ]
  },
  {
   "cell_type": "markdown",
   "id": "2cb65528",
   "metadata": {},
   "source": [
    "# GRN Model Construction and Network Analysis"
   ]
  },
  {
   "cell_type": "code",
   "execution_count": null,
   "id": "cf4a61a1",
   "metadata": {},
   "outputs": [],
   "source": [
    "# 0. Import\n",
    "\n",
    "import os\n",
    "import sys\n",
    "\n",
    "import matplotlib.pyplot as plt\n",
    "import numpy as np\n",
    "import pandas as pd\n",
    "import scanpy as sc\n",
    "import seaborn as sns"
   ]
  },
  {
   "cell_type": "code",
   "execution_count": null,
   "id": "676fcc7f",
   "metadata": {},
   "outputs": [],
   "source": [
    "import celloracle as co\n",
    "co.__version__"
   ]
  },
  {
   "cell_type": "code",
   "execution_count": null,
   "id": "7c29dea5",
   "metadata": {},
   "outputs": [],
   "source": [
    "# visualization settings\n",
    "%config InlineBackend.figure_format = 'retina'\n",
    "%matplotlib inline\n",
    "\n",
    "plt.rcParams['figure.figsize'] = [6, 4.5]\n",
    "plt.rcParams[\"savefig.dpi\"] = 300"
   ]
  },
  {
   "cell_type": "code",
   "execution_count": null,
   "id": "4e7d1480",
   "metadata": {},
   "outputs": [],
   "source": [
    "co.test_R_libraries_installation()"
   ]
  },
  {
   "cell_type": "code",
   "execution_count": null,
   "id": "e056e843",
   "metadata": {},
   "outputs": [],
   "source": [
    "save_folder = \"/media/Scratch_SSD_Voyager/Blue/KPMP_10X/KPMP_Ref_analysis_12-2020/Celloracle2/Figures\"\n",
    "os.makedirs(save_folder, exist_ok=True)"
   ]
  },
  {
   "cell_type": "code",
   "execution_count": null,
   "id": "9f9e68d9",
   "metadata": {},
   "outputs": [],
   "source": [
    "#/media/Home_Raid1_Voyager/b1lake/anaconda3/envs/celloracle_env/bin/seuratToAnndata \"/media/Scratch_SSD_Voyager/Blue/KPMP_10X/KPMP_Ref_analysis_12-2020/Celloracle/aTAL_Seurat.Rds\" \"/media/Scratch_SSD_Voyager/Blue/KPMP_10X/KPMP_Ref_analysis_12-2020/Celloracle/aTALAnnData\""
   ]
  },
  {
   "cell_type": "code",
   "execution_count": null,
   "id": "61fad77f",
   "metadata": {},
   "outputs": [],
   "source": [
    "# Load data\n",
    "adata = sc.read_h5ad(\"/media/Scratch_SSD_Voyager/Blue/KPMP_10X/KPMP_Ref_analysis_12-2020/Celloracle/aTALAnnData.h5ad\")"
   ]
  },
  {
   "cell_type": "code",
   "execution_count": null,
   "id": "622fb036",
   "metadata": {},
   "outputs": [],
   "source": [
    "adata"
   ]
  },
  {
   "cell_type": "code",
   "execution_count": null,
   "id": "850c6504",
   "metadata": {},
   "outputs": [],
   "source": [
    "print(f\"Cell number is :{adata.shape[0]}\")\n",
    "print(f\"Gene number is :{adata.shape[1]}\")"
   ]
  },
  {
   "cell_type": "code",
   "execution_count": null,
   "id": "1f526984",
   "metadata": {},
   "outputs": [],
   "source": [
    "base_GRN = pd.read_parquet(\"/media/Scratch_SSD_Voyager/Blue/KPMP_10X/KPMP_Ref_analysis_12-2020/Celloracle2/base_GRN_dataframe.parquet\")\n",
    "base_GRN.head()"
   ]
  },
  {
   "cell_type": "code",
   "execution_count": null,
   "id": "cc0b6dd1",
   "metadata": {},
   "outputs": [],
   "source": [
    "#Initiate Oracle object\n",
    "oracle = co.Oracle()"
   ]
  },
  {
   "cell_type": "code",
   "execution_count": null,
   "id": "23bb8900",
   "metadata": {},
   "outputs": [],
   "source": [
    "# Show data name in anndata\n",
    "print(\"metadata columns :\", list(adata.obs.columns))\n",
    "print(\"dimensional reduction: \", list(adata.obsm.keys()))"
   ]
  },
  {
   "cell_type": "code",
   "execution_count": null,
   "id": "5e91686c",
   "metadata": {},
   "outputs": [],
   "source": [
    "adata.obs.columns"
   ]
  },
  {
   "cell_type": "code",
   "execution_count": null,
   "id": "1d858ddb",
   "metadata": {},
   "outputs": [],
   "source": [
    "# Check current cluster name\n",
    "cluster_list = adata.obs.modules.unique()\n",
    "cluster_list"
   ]
  },
  {
   "cell_type": "code",
   "execution_count": null,
   "id": "3ec52d3d",
   "metadata": {},
   "outputs": [],
   "source": [
    "adata.obsm['umap']=adata.obsm['X_umap.traj']\n",
    "sc.pl.umap(adata, color=\"modules\")"
   ]
  },
  {
   "cell_type": "code",
   "execution_count": null,
   "id": "ae5ac87d",
   "metadata": {},
   "outputs": [],
   "source": [
    "# In this notebook, we use raw mRNA count as an input of Oracle object.\n",
    "adata.X = adata.layers[\"raw_count\"].copy()\n",
    "\n",
    "# Instantiate Oracle object.\n",
    "oracle.import_anndata_as_raw_count(adata=adata,\n",
    "                                   cluster_column_name=\"modules\",\n",
    "                                   embedding_name=\"X_umap.traj\")"
   ]
  },
  {
   "cell_type": "code",
   "execution_count": null,
   "id": "53176082",
   "metadata": {},
   "outputs": [],
   "source": [
    "# Load TF info dataframe\n",
    "oracle.import_TF_data(TF_info_matrix=base_GRN)\n"
   ]
  },
  {
   "cell_type": "code",
   "execution_count": null,
   "id": "083949c1",
   "metadata": {},
   "outputs": [],
   "source": [
    "#Knn imputation\n",
    "# Perform PCA\n",
    "oracle.perform_PCA()\n",
    "\n",
    "# Select important PCs\n",
    "plt.plot(np.cumsum(oracle.pca.explained_variance_ratio_)[:100])\n",
    "n_comps = np.where(np.diff(np.diff(np.cumsum(oracle.pca.explained_variance_ratio_))>0.002))[0][0]\n",
    "plt.axvline(n_comps, c=\"k\")\n",
    "print(n_comps)\n",
    "n_comps = min(n_comps, 50)"
   ]
  },
  {
   "cell_type": "code",
   "execution_count": null,
   "id": "864c0a43",
   "metadata": {},
   "outputs": [],
   "source": [
    "n_cell = oracle.adata.shape[0]\n",
    "print(f\"cell number is :{n_cell}\")"
   ]
  },
  {
   "cell_type": "code",
   "execution_count": null,
   "id": "d5dc1e62",
   "metadata": {},
   "outputs": [],
   "source": [
    "k = int(0.025*n_cell)\n",
    "print(f\"Auto-selected k is :{k}\")"
   ]
  },
  {
   "cell_type": "code",
   "execution_count": null,
   "id": "aa86dcc4",
   "metadata": {},
   "outputs": [],
   "source": [
    "oracle.knn_imputation(n_pca_dims=n_comps, k=k, balanced=True, b_sight=k*8,\n",
    "                      b_maxl=k*4, n_jobs=4)"
   ]
  },
  {
   "cell_type": "code",
   "execution_count": null,
   "id": "2c5e8609",
   "metadata": {},
   "outputs": [],
   "source": [
    "# Save oracle object.\n",
    "oracle.to_hdf5(\"/media/Scratch_SSD_Voyager/Blue/KPMP_10X/KPMP_Ref_analysis_12-2020/Celloracle2/aTAL_Trajectory.celloracle.oracle\")"
   ]
  },
  {
   "cell_type": "code",
   "execution_count": null,
   "id": "51bc4842",
   "metadata": {},
   "outputs": [],
   "source": [
    "# Load file.\n",
    "oracle = co.load_hdf5(\"/media/Scratch_SSD_Voyager/Blue/KPMP_10X/KPMP_Ref_analysis_12-2020/Celloracle2/aTAL_Trajectory.celloracle.oracle\")"
   ]
  },
  {
   "cell_type": "markdown",
   "id": "7bb043e7",
   "metadata": {},
   "source": [
    "# GRN calculation"
   ]
  },
  {
   "cell_type": "code",
   "execution_count": null,
   "id": "fd2d6ab6",
   "metadata": {},
   "outputs": [],
   "source": [
    "%%time\n",
    "# Calculate GRN for each population in \"louvain_annot\" clustering unit.\n",
    "# This step may take long time.(~30 minutes)\n",
    "links = oracle.get_links(cluster_name_for_GRN_unit=\"modules\", alpha=10,\n",
    "                         verbose_level=10, test_mode=False)"
   ]
  },
  {
   "cell_type": "code",
   "execution_count": null,
   "id": "64a4135b",
   "metadata": {},
   "outputs": [],
   "source": [
    "# Show the contents of pallete\n",
    "links.palette"
   ]
  },
  {
   "cell_type": "code",
   "execution_count": null,
   "id": "00c6e803",
   "metadata": {},
   "outputs": [],
   "source": [
    "# Change the order of pallete\n",
    "order = ['black', 'pink', 'brown', 'yellow', 'blue']\n",
    "links.palette = links.palette.loc[order]\n",
    "links.palette"
   ]
  },
  {
   "cell_type": "code",
   "execution_count": null,
   "id": "7d995a34",
   "metadata": {},
   "outputs": [],
   "source": [
    "links.palette.loc['black'] = 'black'\n",
    "links.palette.loc['pink'] = 'pink'\n",
    "links.palette.loc['brown'] = 'brown'\n",
    "links.palette.loc['yellow'] = 'yellow'\n",
    "links.palette.loc['blue'] = 'blue'\n",
    "links.palette"
   ]
  },
  {
   "cell_type": "code",
   "execution_count": null,
   "id": "73ea0311",
   "metadata": {},
   "outputs": [],
   "source": [
    "#Network preprocessing\n",
    "links.filter_links(p=0.001, weight=\"coef_abs\", threshold_number=2000)"
   ]
  },
  {
   "cell_type": "code",
   "execution_count": null,
   "id": "a7d818dd",
   "metadata": {},
   "outputs": [],
   "source": [
    "plt.rcParams[\"figure.figsize\"] = [9, 4.5]"
   ]
  },
  {
   "cell_type": "code",
   "execution_count": null,
   "id": "a824b189",
   "metadata": {},
   "outputs": [],
   "source": [
    "links.plot_degree_distributions(plot_model=True,\n",
    "                                               #save=f\"{save_folder}/degree_distribution/\",\n",
    "                                               )"
   ]
  },
  {
   "cell_type": "code",
   "execution_count": null,
   "id": "62335d7a",
   "metadata": {},
   "outputs": [],
   "source": [
    "plt.rcParams[\"figure.figsize\"] = [6, 4.5]"
   ]
  },
  {
   "cell_type": "code",
   "execution_count": null,
   "id": "8e870681",
   "metadata": {},
   "outputs": [],
   "source": [
    "# Calculate network scores. It takes several minutes.\n",
    "links.get_score()"
   ]
  },
  {
   "cell_type": "code",
   "execution_count": null,
   "id": "6ee77af0",
   "metadata": {},
   "outputs": [],
   "source": [
    "links.merged_score.head()"
   ]
  },
  {
   "cell_type": "code",
   "execution_count": null,
   "id": "81c46074",
   "metadata": {},
   "outputs": [],
   "source": [
    "# Save as csv\n",
    "links.merged_score.to_csv(f\"{save_folder}/Merged_Links_Scores_for_Modules.csv\")"
   ]
  },
  {
   "cell_type": "code",
   "execution_count": null,
   "id": "0f055120",
   "metadata": {},
   "outputs": [],
   "source": [
    "# Save Links object.\n",
    "links.to_hdf5(file_path=\"/media/Scratch_SSD_Voyager/Blue/KPMP_10X/KPMP_Ref_analysis_12-2020/Celloracle2/aTAL_Trajectory_links.celloracle.links\")"
   ]
  },
  {
   "cell_type": "code",
   "execution_count": null,
   "id": "7830562e",
   "metadata": {},
   "outputs": [],
   "source": [
    "# You can load files with the following command.\n",
    "links = co.load_hdf5(file_path=\"/media/Scratch_SSD_Voyager/Blue/KPMP_10X/KPMP_Ref_analysis_12-2020/Celloracle2/aTAL_Trajectory_links.celloracle.links\")"
   ]
  },
  {
   "cell_type": "markdown",
   "id": "632ba415",
   "metadata": {},
   "source": [
    "# Network analysis; Network score for each gene"
   ]
  },
  {
   "cell_type": "code",
   "execution_count": null,
   "id": "0c6f41d3",
   "metadata": {},
   "outputs": [],
   "source": [
    "#visualize genes with high network centrality\n",
    "# Check cluster name\n",
    "links.cluster"
   ]
  },
  {
   "cell_type": "code",
   "execution_count": null,
   "id": "a6d75b58",
   "metadata": {},
   "outputs": [],
   "source": [
    "links.thread_number = [1]"
   ]
  },
  {
   "cell_type": "code",
   "execution_count": null,
   "id": "3834f0a0",
   "metadata": {},
   "outputs": [],
   "source": [
    "# Visualize top n-th genes that have high scores.\n",
    "links.plot_scores_as_rank(cluster=\"black\", n_gene=30, save=f\"{save_folder}/ranked_score\")"
   ]
  },
  {
   "cell_type": "code",
   "execution_count": null,
   "id": "a492d23f",
   "metadata": {},
   "outputs": [],
   "source": [
    "# Visualize top n-th genes that have high scores.\n",
    "links.plot_scores_as_rank(cluster=\"yellow\", n_gene=30, save=f\"{save_folder}/ranked_score\")"
   ]
  },
  {
   "cell_type": "code",
   "execution_count": null,
   "id": "542902eb",
   "metadata": {},
   "outputs": [],
   "source": [
    "# Visualize top n-th genes that have high scores.\n",
    "links.plot_scores_as_rank(cluster=\"blue\", n_gene=30, save=f\"{save_folder}/ranked_score\")"
   ]
  },
  {
   "cell_type": "code",
   "execution_count": null,
   "id": "715ce10f",
   "metadata": {},
   "outputs": [],
   "source": [
    "# Visualize top n-th genes that have high scores.\n",
    "links.plot_scores_as_rank(cluster=\"pink\", n_gene=30, save=f\"{save_folder}/ranked_score\")"
   ]
  },
  {
   "cell_type": "code",
   "execution_count": null,
   "id": "a0ae0585",
   "metadata": {},
   "outputs": [],
   "source": [
    "# Visualize top n-th genes that have high scores.\n",
    "links.plot_scores_as_rank(cluster=\"brown\", n_gene=30, save=f\"{save_folder}/ranked_score\")"
   ]
  },
  {
   "cell_type": "code",
   "execution_count": null,
   "id": "8744ca35",
   "metadata": {},
   "outputs": [],
   "source": [
    "plt.ticklabel_format(style='sci',axis='y',scilimits=(0,0))\n",
    "links.plot_score_comparison_2D(value=\"degree_centrality_all\",\n",
    "                               cluster1=\"pink\", cluster2=\"blue\",\n",
    "                               percentile=98, save=f\"{save_folder}/score_comparison\")"
   ]
  },
  {
   "cell_type": "code",
   "execution_count": null,
   "id": "9b433535",
   "metadata": {},
   "outputs": [],
   "source": [
    "plt.ticklabel_format(style='sci',axis='y',scilimits=(0,0))\n",
    "links.plot_score_comparison_2D(value=\"eigenvector_centrality\",\n",
    "                               cluster1=\"pink\", cluster2=\"blue\",\n",
    "                               percentile=98, save=f\"{save_folder}/score_comparison\")"
   ]
  },
  {
   "cell_type": "code",
   "execution_count": null,
   "id": "2daf136d",
   "metadata": {},
   "outputs": [],
   "source": [
    "plt.ticklabel_format(style='sci',axis='y',scilimits=(0,0))\n",
    "links.plot_score_comparison_2D(value=\"betweenness_centrality\",\n",
    "                               cluster1=\"pink\", cluster2=\"blue\",\n",
    "                               percentile=98, save=f\"{save_folder}/score_comparison\")"
   ]
  },
  {
   "cell_type": "code",
   "execution_count": null,
   "id": "3e558136",
   "metadata": {},
   "outputs": [],
   "source": [
    "plt.ticklabel_format(style='sci',axis='y',scilimits=(0,0))\n",
    "links.plot_score_comparison_2D(value=\"degree_centrality_all\",\n",
    "                               cluster1=\"pink\", cluster2=\"yellow\",\n",
    "                               percentile=98, save=f\"{save_folder}/score_comparison\")"
   ]
  },
  {
   "cell_type": "code",
   "execution_count": null,
   "id": "30c3e220",
   "metadata": {},
   "outputs": [],
   "source": [
    "plt.ticklabel_format(style='sci',axis='y',scilimits=(0,0))\n",
    "links.plot_score_comparison_2D(value=\"eigenvector_centrality\",\n",
    "                               cluster1=\"pink\", cluster2=\"yellow\",\n",
    "                               percentile=98, save=f\"{save_folder}/score_comparison\")"
   ]
  },
  {
   "cell_type": "code",
   "execution_count": null,
   "id": "fd374e7c",
   "metadata": {},
   "outputs": [],
   "source": [
    "plt.ticklabel_format(style='sci',axis='y',scilimits=(0,0))\n",
    "links.plot_score_comparison_2D(value=\"betweenness_centrality\",\n",
    "                               cluster1=\"pink\", cluster2=\"yellow\",\n",
    "                               percentile=98, save=f\"{save_folder}/score_comparison\")"
   ]
  },
  {
   "cell_type": "code",
   "execution_count": null,
   "id": "dd442107",
   "metadata": {},
   "outputs": [],
   "source": [
    "plt.ticklabel_format(style='sci',axis='y',scilimits=(0,0))\n",
    "links.plot_score_comparison_2D(value=\"degree_centrality_all\",\n",
    "                               cluster1=\"pink\", cluster2=\"brown\",\n",
    "                               percentile=98, save=f\"{save_folder}/score_comparison\")"
   ]
  },
  {
   "cell_type": "code",
   "execution_count": null,
   "id": "0e809403",
   "metadata": {},
   "outputs": [],
   "source": [
    "plt.ticklabel_format(style='sci',axis='y',scilimits=(0,0))\n",
    "links.plot_score_comparison_2D(value=\"eigenvector_centrality\",\n",
    "                               cluster1=\"pink\", cluster2=\"brown\",\n",
    "                               percentile=98, save=f\"{save_folder}/score_comparison\")"
   ]
  },
  {
   "cell_type": "code",
   "execution_count": null,
   "id": "75da8dff",
   "metadata": {},
   "outputs": [],
   "source": [
    "plt.ticklabel_format(style='sci',axis='y',scilimits=(0,0))\n",
    "links.plot_score_comparison_2D(value=\"betweenness_centrality\",\n",
    "                               cluster1=\"pink\", cluster2=\"brown\",\n",
    "                               percentile=98, save=f\"{save_folder}/score_comparison\")"
   ]
  },
  {
   "cell_type": "code",
   "execution_count": null,
   "id": "1f29a7a1",
   "metadata": {},
   "outputs": [],
   "source": [
    "# Visualize network score dynamics\n",
    "links.plot_score_per_cluster(goi=\"EGF\", save=f\"{save_folder}/network_score_per_gene/\")"
   ]
  },
  {
   "cell_type": "code",
   "execution_count": null,
   "id": "a7d92578",
   "metadata": {},
   "outputs": [],
   "source": [
    "# Visualize network score dynamics\n",
    "links.plot_score_per_cluster(goi=\"DCDC2\", save=f\"{save_folder}/network_score_per_gene/\")"
   ]
  },
  {
   "cell_type": "code",
   "execution_count": null,
   "id": "74addb09",
   "metadata": {},
   "outputs": [],
   "source": [
    "# Visualize network score dynamics\n",
    "links.plot_score_per_cluster(goi=\"PROM1\", save=f\"{save_folder}/network_score_per_gene/\")"
   ]
  },
  {
   "cell_type": "code",
   "execution_count": null,
   "id": "82536744",
   "metadata": {},
   "outputs": [],
   "source": [
    "# Visualize network score dynamics\n",
    "links.plot_score_per_cluster(goi=\"ERBB4\", save=f\"{save_folder}/network_score_per_gene/\")"
   ]
  },
  {
   "cell_type": "code",
   "execution_count": null,
   "id": "ed608989",
   "metadata": {},
   "outputs": [],
   "source": [
    "# Visualize network score dynamics\n",
    "links.plot_score_per_cluster(goi=\"PPARGC1A\", save=f\"{save_folder}/network_score_per_gene/\")"
   ]
  },
  {
   "cell_type": "code",
   "execution_count": null,
   "id": "7787e850",
   "metadata": {},
   "outputs": [],
   "source": [
    "# Visualize network score dynamics\n",
    "links.plot_score_per_cluster(goi=\"STAT3\", save=f\"{save_folder}/network_score_per_gene/\")"
   ]
  },
  {
   "cell_type": "code",
   "execution_count": null,
   "id": "50151f59",
   "metadata": {},
   "outputs": [],
   "source": [
    "# Visualize network score dynamics\n",
    "links.plot_score_per_cluster(goi=\"NR3C1\", save=f\"{save_folder}/network_score_per_gene/\")"
   ]
  },
  {
   "cell_type": "code",
   "execution_count": null,
   "id": "39ebf947",
   "metadata": {},
   "outputs": [],
   "source": [
    "# Visualize network score dynamics\n",
    "links.plot_score_per_cluster(goi=\"NR3C2\", save=f\"{save_folder}/network_score_per_gene/\")"
   ]
  },
  {
   "cell_type": "code",
   "execution_count": null,
   "id": "eac1e758",
   "metadata": {},
   "outputs": [],
   "source": [
    "# Visualize network score dynamics\n",
    "links.plot_score_per_cluster(goi=\"NR2F2\", save=f\"{save_folder}/network_score_per_gene/\")"
   ]
  },
  {
   "cell_type": "code",
   "execution_count": null,
   "id": "b75f5e27",
   "metadata": {},
   "outputs": [],
   "source": [
    "# Visualize network score dynamics\n",
    "links.plot_score_per_cluster(goi=\"ESRRG\", save=f\"{save_folder}/network_score_per_gene/\")"
   ]
  },
  {
   "cell_type": "code",
   "execution_count": null,
   "id": "f5fafb14",
   "metadata": {},
   "outputs": [],
   "source": [
    "# Visualize network score dynamics\n",
    "links.plot_score_per_cluster(goi=\"SPP1\", save=f\"{save_folder}/network_score_per_gene/\")"
   ]
  },
  {
   "cell_type": "code",
   "execution_count": null,
   "id": "2e92b488",
   "metadata": {},
   "outputs": [],
   "source": [
    "# Visualize network score dynamics\n",
    "links.plot_score_per_cluster(goi=\"WNK1\", save=f\"{save_folder}/network_score_per_gene/\")"
   ]
  },
  {
   "cell_type": "code",
   "execution_count": null,
   "id": "98a78b08",
   "metadata": {},
   "outputs": [],
   "source": [
    "# Visualize network score dynamics\n",
    "links.plot_score_per_cluster(goi=\"ELF1\", save=f\"{save_folder}/network_score_per_gene/\")"
   ]
  },
  {
   "cell_type": "code",
   "execution_count": null,
   "id": "e57618ab",
   "metadata": {},
   "outputs": [],
   "source": [
    "# Visualize network score dynamics\n",
    "links.plot_score_per_cluster(goi=\"TFAP2B\", save=f\"{save_folder}/network_score_per_gene/\")"
   ]
  },
  {
   "cell_type": "code",
   "execution_count": null,
   "id": "60bd7635",
   "metadata": {},
   "outputs": [],
   "source": [
    "# Visualize network score dynamics\n",
    "links.plot_score_per_cluster(goi=\"ZEB1\", save=f\"{save_folder}/network_score_per_gene/\")"
   ]
  },
  {
   "cell_type": "code",
   "execution_count": null,
   "id": "0622f661",
   "metadata": {},
   "outputs": [],
   "source": [
    "# Visualize network score dynamics\n",
    "links.plot_score_per_cluster(goi=\"TCF7L2\", save=f\"{save_folder}/network_score_per_gene/\")"
   ]
  },
  {
   "cell_type": "code",
   "execution_count": null,
   "id": "85fa1dd3",
   "metadata": {},
   "outputs": [],
   "source": [
    "# Visualize network score dynamics\n",
    "links.plot_score_per_cluster(goi=\"ESRRB\", save=f\"{save_folder}/network_score_per_gene/\")"
   ]
  },
  {
   "cell_type": "code",
   "execution_count": null,
   "id": "cd87ff08",
   "metadata": {},
   "outputs": [],
   "source": [
    "# Visualize network score dynamics\n",
    "links.plot_score_per_cluster(goi=\"NPAS3\", save=f\"{save_folder}/network_score_per_gene/\")"
   ]
  },
  {
   "cell_type": "code",
   "execution_count": null,
   "id": "b824ac26",
   "metadata": {},
   "outputs": [],
   "source": [
    "# Visualize network score dynamics\n",
    "links.plot_score_per_cluster(goi=\"FOXK2\", save=f\"{save_folder}/network_score_per_gene/\")"
   ]
  },
  {
   "cell_type": "code",
   "execution_count": null,
   "id": "80b02b85",
   "metadata": {},
   "outputs": [],
   "source": [
    "cluster_name = \"blue\"\n",
    "filtered_links_df = links.filtered_links[cluster_name]\n",
    "filtered_links_df.head()\n",
    "# Save as csv\n",
    "filtered_links_df.to_csv(f\"{save_folder}/Filtered_Links_for_{cluster_name}_Module.csv\")"
   ]
  },
  {
   "cell_type": "code",
   "execution_count": null,
   "id": "dc037039",
   "metadata": {},
   "outputs": [],
   "source": [
    "cluster_name = \"yellow\"\n",
    "filtered_links_df = links.filtered_links[cluster_name]\n",
    "filtered_links_df.head()\n",
    "# Save as csv\n",
    "filtered_links_df.to_csv(f\"{save_folder}/Filtered_Links_for_{cluster_name}_Module.csv\")"
   ]
  },
  {
   "cell_type": "code",
   "execution_count": null,
   "id": "5fd427f3",
   "metadata": {},
   "outputs": [],
   "source": [
    "cluster_name = \"brown\"\n",
    "filtered_links_df = links.filtered_links[cluster_name]\n",
    "filtered_links_df.head()\n",
    "# Save as csv\n",
    "filtered_links_df.to_csv(f\"{save_folder}/Filtered_Links_for_{cluster_name}_Module.csv\")"
   ]
  },
  {
   "cell_type": "code",
   "execution_count": null,
   "id": "b42a9ec7",
   "metadata": {},
   "outputs": [],
   "source": [
    "cluster_name = \"pink\"\n",
    "filtered_links_df = links.filtered_links[cluster_name]\n",
    "filtered_links_df.head()\n",
    "# Save as csv\n",
    "filtered_links_df.to_csv(f\"{save_folder}/Filtered_Links_for_{cluster_name}_Module.csv\")"
   ]
  },
  {
   "cell_type": "code",
   "execution_count": null,
   "id": "6a2390cc",
   "metadata": {},
   "outputs": [],
   "source": [
    "cluster_name = \"black\"\n",
    "filtered_links_df = links.filtered_links[cluster_name]\n",
    "filtered_links_df.head()\n",
    "# Save as csv\n",
    "filtered_links_df.to_csv(f\"{save_folder}/Filtered_Links_for_{cluster_name}_Module.csv\")"
   ]
  }
 ],
 "metadata": {
  "kernelspec": {
   "display_name": "celloracle_env",
   "language": "python",
   "name": "celloracle_env"
  },
  "language_info": {
   "codemirror_mode": {
    "name": "ipython",
    "version": 3
   },
   "file_extension": ".py",
   "mimetype": "text/x-python",
   "name": "python",
   "nbconvert_exporter": "python",
   "pygments_lexer": "ipython3",
   "version": "3.6.13"
  }
 },
 "nbformat": 4,
 "nbformat_minor": 5
}
