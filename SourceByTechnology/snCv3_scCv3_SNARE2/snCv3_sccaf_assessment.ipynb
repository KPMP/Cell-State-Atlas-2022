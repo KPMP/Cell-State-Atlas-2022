{
 "cells": [
  {
   "cell_type": "code",
   "execution_count": null,
   "id": "584740a4",
   "metadata": {},
   "outputs": [],
   "source": [
    "%pylab inline\n",
    "\n",
    "import warnings\n",
    "warnings.filterwarnings(\"ignore\")\n",
    "from SCCAF import *\n",
    "import urllib.request"
   ]
  },
  {
   "cell_type": "code",
   "execution_count": null,
   "id": "3d09b22e",
   "metadata": {},
   "outputs": [],
   "source": [
    "output_dir = '/media/Scratch_SSD_Voyager/Blue/KPMP_10X/KPMP_Ref_analysis_12-2020/SCCAF'"
   ]
  },
  {
   "cell_type": "code",
   "execution_count": null,
   "id": "b088a60f",
   "metadata": {},
   "outputs": [],
   "source": [
    "ad = sc.read_h5ad(filename=\"/media/Scratch_SSD_Voyager/Blue/KPMP_10X/KPMP_Ref_analysis_12-2020/Kidney_Healthy-Injury_Cell_Atlas_snCv3_Seurat_07302021_annotated.h5ad\")"
   ]
  },
  {
   "cell_type": "code",
   "execution_count": null,
   "id": "c7c7589a",
   "metadata": {},
   "outputs": [],
   "source": [
    "figsize(5,5)\n",
    "sc.pl.tsne(ad, color=['subclass.l1'], frameon=False)"
   ]
  },
  {
   "cell_type": "code",
   "execution_count": null,
   "id": "9b651e9e",
   "metadata": {},
   "outputs": [],
   "source": [
    "figsize(5,5)\n",
    "sc.pl.tsne(ad, color=['subclass.l3'], frameon=False)"
   ]
  },
  {
   "cell_type": "code",
   "execution_count": null,
   "id": "205634e1",
   "metadata": {},
   "outputs": [],
   "source": [
    "y_prob, y_pred, y_test, clf, cvsm, acc = SCCAF_assessment(ad.X, ad.obs['subclass.l3'],n=100)"
   ]
  },
  {
   "cell_type": "code",
   "execution_count": null,
   "id": "33f3fd27",
   "metadata": {},
   "outputs": [],
   "source": [
    "figsize(8,5)\n",
    "aucs = plot_roc(y_prob, y_test, clf, cvsm=cvsm, acc=acc, save=(output_dir + '/snCv3_Subclassl3_SCCAF-Assessment.pdf'))\n",
    "plt.show()"
   ]
  },
  {
   "cell_type": "code",
   "execution_count": null,
   "id": "7806d853",
   "metadata": {},
   "outputs": [],
   "source": [
    "colors = ['#7A8039','#AF86B3','#6E8060','#ACE6D8','#36B366','#45E651','#6BB3A8','#86B38D','#3B8026','#B5E6AC','#807226',\n",
    "'#B39C50','#E6E1AC','#607380','#ACBEE6','#8ABBE6','#368CB3','#4551E6','#507EB3','#562680','#4D7880','#50B38D','#CFACE6',\n",
    "'#B5E667','#E68AC9','#806078','#8686B3','#6FB350','#802656','#AD8AE6','#E6456A','#B3369F','#45E6E6','#60806E','#804439',\n",
    "'#804D80','#E6ACAC','#E66A45','#B39486','#80604D','#67C8E6','#504D80','#B3868D','#E667DC','#7B67E6','#5236B3','#6F3980',\n",
    "'#E6A267','#A8B386','#70804D','#E6ACC7','#67E68E','#398039','#394480','#B3508D','#7E50B3','#B37936','#CDE645','#39807A',\n",
    "'#ADE68A','#4D8058','#71B36B','#B3B36B','#6B7CB3','#264980','#CD45E6','#268064','#9D6BB3','#79B336','#8AE6BB','#B3716B',\n",
    "'#807360','#E6C98A','#696080','#80394F','#B36B87','#86AFB3']"
   ]
  },
  {
   "cell_type": "code",
   "execution_count": null,
   "id": "4bd29fd5",
   "metadata": {},
   "outputs": [],
   "source": [
    "figsize(8,5)\n",
    "aucs = plot_roc(y_prob, y_test, clf, cvsm=cvsm, acc=acc, colors = colors, save=(output_dir + '/snCv3_Subclassl3_SCCAF-Assessment_colors.pdf'))\n",
    "plt.show()"
   ]
  },
  {
   "cell_type": "code",
   "execution_count": null,
   "id": "12809628",
   "metadata": {},
   "outputs": [],
   "source": [
    "y_prob, y_pred, y_test, clf, cvsm, acc = SCCAF_assessment(ad.X, ad.obs['subclass.l1'],n=100)"
   ]
  },
  {
   "cell_type": "code",
   "execution_count": null,
   "id": "3452fa5d",
   "metadata": {},
   "outputs": [],
   "source": [
    "figsize(8,5)\n",
    "aucs = plot_roc(y_prob, y_test, clf, cvsm=cvsm, acc=acc, save=(output_dir + '/snCv3_Subclassl1_SCCAF-Assessment.pdf'))\n",
    "plt.show()"
   ]
  },
  {
   "cell_type": "code",
   "execution_count": null,
   "id": "6e170cd7",
   "metadata": {},
   "outputs": [],
   "source": [
    "colors = ['#7A8039','#45E651','#3B8026','#B39C50','#368CB3','#AD8AE6','#39807A','#E68AC9','#B3868D','#36B366',\n",
    "'#804539','#E6ACAC','#E6A267','#67C8E6','#B5E667','#8686B3']"
   ]
  },
  {
   "cell_type": "code",
   "execution_count": null,
   "id": "8073d5b8",
   "metadata": {},
   "outputs": [],
   "source": [
    "figsize(8,5)\n",
    "aucs = plot_roc(y_prob, y_test, clf, cvsm=cvsm, acc=acc, colors = colors, save=(output_dir + '/snCv3_Subclassl1_SCCAF-Assessment_colors.pdf'))\n",
    "plt.show()"
   ]
  },
  {
   "cell_type": "code",
   "execution_count": null,
   "id": "9e44b63e",
   "metadata": {},
   "outputs": [],
   "source": [
    "figsize(5,5)\n",
    "sc.pl.tsne(ad, color=['clusters'], frameon=False)"
   ]
  },
  {
   "cell_type": "code",
   "execution_count": null,
   "id": "1e7983bf",
   "metadata": {},
   "outputs": [],
   "source": [
    "y_prob, y_pred, y_test, clf, cvsm, acc = SCCAF_assessment(ad.X, ad.obs['clusters'],n=100)"
   ]
  },
  {
   "cell_type": "code",
   "execution_count": null,
   "id": "d2bc2c52",
   "metadata": {},
   "outputs": [],
   "source": [
    "figsize(8,5)\n",
    "aucs = plot_roc(y_prob, y_test, clf, cvsm=cvsm, acc=acc, save=(output_dir + '/snCv3_Clusters_SCCAF-Assessment.pdf'))\n",
    "plt.show()"
   ]
  },
  {
   "cell_type": "code",
   "execution_count": null,
   "id": "7e19d3af",
   "metadata": {},
   "outputs": [],
   "source": [
    "colors = ['#E6ACAC','#B36F6B','#804039','#E65D45','#B38F86','#80594D','#E68D67','#B36236','#806C60','#E6B38A','#B38250',\n",
    "'#805826','#E6CFAC','#B39A6B','#806B39','#E6BE45','#B3AA86','#80784D','#E6DA67','#B3AD36','#7F8060','#E0E68A','#A8B350',\n",
    "'#718026','#D9E6AC','#A0B36B','#6A8039','#ABE645','#A0B386','#68804D','#A5E667','#6CB336','#6C8060','#A9E68A','#6CB350',\n",
    "'#3B8026','#B7E6AC','#75B36B','#3F8039','#4AE645','#86B387','#4D8050','#67E676','#36B34B','#608067','#8AE6A2','#50B370',\n",
    "'#268047','#ACE6C4','#6BB38D','#39805E','#45E6A1','#86B3A2','#4D806F','#67E6C2','#36B396','#60807A','#8AE6DA','#50B3AB',\n",
    "'#26807D','#ACE4E6','#6BADB3','#397780','#45C9E6','#86A8B3','#4D7180','#67BCE6','#3683B3','#607280','#8ABAE6','#507FB3',\n",
    "'#264C80','#ACC1E6','#6B82B3','#394C80','#4568E6','#868DB3','#4D5380','#6770E6','#3638B3','#616080','#918AE6','#5E50B3',\n",
    "'#372680','#BAACE6','#7F6BB3','#513980','#8345E6','#9986B3','#654D80','#AB67E6','#7F36B3','#746080','#C98AE6','#9950B3',\n",
    "'#6D2680','#DCACE6','#AB6BB3','#7B3980','#E445E6']"
   ]
  },
  {
   "cell_type": "code",
   "execution_count": null,
   "id": "933b7043",
   "metadata": {},
   "outputs": [],
   "source": [
    "figsize(8,5)\n",
    "aucs = plot_roc(y_prob, y_test, clf, cvsm=cvsm, acc=acc, colors = colors, save=(output_dir + '/snCv3_Clusters_SCCAF-Assessment_colors.pdf'))\n",
    "plt.show()"
   ]
  },
  {
   "cell_type": "code",
   "execution_count": null,
   "id": "50c3631e",
   "metadata": {},
   "outputs": [],
   "source": []
  }
 ],
 "metadata": {
  "kernelspec": {
   "display_name": "sccaf",
   "language": "python",
   "name": "sccaf"
  },
  "language_info": {
   "codemirror_mode": {
    "name": "ipython",
    "version": 3
   },
   "file_extension": ".py",
   "mimetype": "text/x-python",
   "name": "python",
   "nbconvert_exporter": "python",
   "pygments_lexer": "ipython3",
   "version": "3.7.6"
  }
 },
 "nbformat": 4,
 "nbformat_minor": 5
}
