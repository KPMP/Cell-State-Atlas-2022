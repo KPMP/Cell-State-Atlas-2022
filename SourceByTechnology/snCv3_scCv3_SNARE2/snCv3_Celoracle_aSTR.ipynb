{
 "cells": [
  {
   "cell_type": "code",
   "execution_count": null,
   "id": "04428a40",
   "metadata": {},
   "outputs": [],
   "source": [
    "import celloracle as co"
   ]
  },
  {
   "cell_type": "code",
   "execution_count": null,
   "id": "2209e63a",
   "metadata": {},
   "outputs": [],
   "source": [
    "co.network_analysis.set_R_path(\"/opt/R/4.0.4/bin/R\")"
   ]
  },
  {
   "cell_type": "code",
   "execution_count": null,
   "id": "fe11e92e",
   "metadata": {},
   "outputs": [],
   "source": [
    "co.test_R_libraries_installation()"
   ]
  },
  {
   "cell_type": "code",
   "execution_count": null,
   "id": "e322c664",
   "metadata": {
    "scrolled": true
   },
   "outputs": [],
   "source": [
    "co.check_python_requirements()"
   ]
  },
  {
   "cell_type": "markdown",
   "id": "2cb65528",
   "metadata": {},
   "source": [
    "# GRN Model Construction and Network Analysis"
   ]
  },
  {
   "cell_type": "code",
   "execution_count": null,
   "id": "cf4a61a1",
   "metadata": {},
   "outputs": [],
   "source": [
    "# 0. Import\n",
    "\n",
    "import os\n",
    "import sys\n",
    "\n",
    "import matplotlib.pyplot as plt\n",
    "import numpy as np\n",
    "import pandas as pd\n",
    "import scanpy as sc\n",
    "import seaborn as sns"
   ]
  },
  {
   "cell_type": "code",
   "execution_count": null,
   "id": "676fcc7f",
   "metadata": {},
   "outputs": [],
   "source": [
    "import celloracle as co\n",
    "co.__version__"
   ]
  },
  {
   "cell_type": "code",
   "execution_count": null,
   "id": "7c29dea5",
   "metadata": {},
   "outputs": [],
   "source": [
    "# visualization settings\n",
    "%config InlineBackend.figure_format = 'retina'\n",
    "%matplotlib inline\n",
    "\n",
    "plt.rcParams['figure.figsize'] = [6, 4.5]\n",
    "plt.rcParams[\"savefig.dpi\"] = 300"
   ]
  },
  {
   "cell_type": "code",
   "execution_count": null,
   "id": "4e7d1480",
   "metadata": {},
   "outputs": [],
   "source": [
    "co.test_R_libraries_installation()"
   ]
  },
  {
   "cell_type": "code",
   "execution_count": null,
   "id": "e056e843",
   "metadata": {},
   "outputs": [],
   "source": [
    "save_folder = \"/media/Scratch_SSD_Voyager/Blue/KPMP_10X/KPMP_Ref_analysis_12-2020/Celloracle-STR/Figures\"\n",
    "os.makedirs(save_folder, exist_ok=True)"
   ]
  },
  {
   "cell_type": "code",
   "execution_count": null,
   "id": "9f9e68d9",
   "metadata": {},
   "outputs": [],
   "source": [
    "#/media/Home_Raid1_Voyager/b1lake/anaconda3/envs/celloracle_env/bin/seuratToAnndata \"/media/Scratch_SSD_Voyager/Blue/KPMP_10X/KPMP_Ref_analysis_12-2020/Celloracle/aSTR_Seurat.Rds\" \"/media/Scratch_SSD_Voyager/Blue/KPMP_10X/KPMP_Ref_analysis_12-2020/Celloracle/aSTRAnnData\""
   ]
  },
  {
   "cell_type": "code",
   "execution_count": null,
   "id": "61fad77f",
   "metadata": {},
   "outputs": [],
   "source": [
    "# Load data\n",
    "adata = sc.read_h5ad(\"/media/Scratch_SSD_Voyager/Blue/KPMP_10X/KPMP_Ref_analysis_12-2020/Celloracle/aSTRAnnData.h5ad\")"
   ]
  },
  {
   "cell_type": "code",
   "execution_count": null,
   "id": "622fb036",
   "metadata": {},
   "outputs": [],
   "source": [
    "adata"
   ]
  },
  {
   "cell_type": "code",
   "execution_count": null,
   "id": "850c6504",
   "metadata": {},
   "outputs": [],
   "source": [
    "print(f\"Cell number is :{adata.shape[0]}\")\n",
    "print(f\"Gene number is :{adata.shape[1]}\")"
   ]
  },
  {
   "cell_type": "code",
   "execution_count": null,
   "id": "1f526984",
   "metadata": {},
   "outputs": [],
   "source": [
    "base_GRN = pd.read_parquet(\"/media/Scratch_SSD_Voyager/Blue/KPMP_10X/KPMP_Ref_analysis_12-2020/Celloracle2/base_GRN_dataframe.parquet\")\n",
    "base_GRN.head()"
   ]
  },
  {
   "cell_type": "code",
   "execution_count": null,
   "id": "cc0b6dd1",
   "metadata": {},
   "outputs": [],
   "source": [
    "#Initiate Oracle object\n",
    "oracle = co.Oracle()"
   ]
  },
  {
   "cell_type": "code",
   "execution_count": null,
   "id": "23bb8900",
   "metadata": {},
   "outputs": [],
   "source": [
    "# Show data name in anndata\n",
    "print(\"metadata columns :\", list(adata.obs.columns))\n",
    "print(\"dimensional reduction: \", list(adata.obsm.keys()))"
   ]
  },
  {
   "cell_type": "code",
   "execution_count": null,
   "id": "5e91686c",
   "metadata": {},
   "outputs": [],
   "source": [
    "adata.obs.columns"
   ]
  },
  {
   "cell_type": "code",
   "execution_count": null,
   "id": "1d858ddb",
   "metadata": {},
   "outputs": [],
   "source": [
    "# Check current cluster name\n",
    "cluster_list = adata.obs.active_ident.unique()\n",
    "cluster_list"
   ]
  },
  {
   "cell_type": "code",
   "execution_count": null,
   "id": "3ec52d3d",
   "metadata": {},
   "outputs": [],
   "source": [
    "adata.obsm['umap']=adata.obsm['X_umap']\n",
    "sc.pl.umap(adata, color=\"active_ident\")"
   ]
  },
  {
   "cell_type": "code",
   "execution_count": null,
   "id": "ae5ac87d",
   "metadata": {},
   "outputs": [],
   "source": [
    "# In this notebook, we use raw mRNA count as an input of Oracle object.\n",
    "adata.X = adata.layers[\"raw_count\"].copy()\n",
    "\n",
    "# Instantiate Oracle object.\n",
    "oracle.import_anndata_as_raw_count(adata=adata,\n",
    "                                   cluster_column_name=\"active_ident\",\n",
    "                                   embedding_name=\"X_umap\")"
   ]
  },
  {
   "cell_type": "code",
   "execution_count": null,
   "id": "53176082",
   "metadata": {},
   "outputs": [],
   "source": [
    "# Load TF info dataframe\n",
    "oracle.import_TF_data(TF_info_matrix=base_GRN)\n"
   ]
  },
  {
   "cell_type": "code",
   "execution_count": null,
   "id": "083949c1",
   "metadata": {},
   "outputs": [],
   "source": [
    "#Knn imputation\n",
    "# Perform PCA\n",
    "oracle.perform_PCA()\n",
    "\n",
    "# Select important PCs\n",
    "plt.plot(np.cumsum(oracle.pca.explained_variance_ratio_)[:100])\n",
    "n_comps = np.where(np.diff(np.diff(np.cumsum(oracle.pca.explained_variance_ratio_))>0.002))[0][0]\n",
    "plt.axvline(n_comps, c=\"k\")\n",
    "print(n_comps)\n",
    "n_comps = min(n_comps, 50)"
   ]
  },
  {
   "cell_type": "code",
   "execution_count": null,
   "id": "864c0a43",
   "metadata": {},
   "outputs": [],
   "source": [
    "n_cell = oracle.adata.shape[0]\n",
    "print(f\"cell number is :{n_cell}\")"
   ]
  },
  {
   "cell_type": "code",
   "execution_count": null,
   "id": "d5dc1e62",
   "metadata": {},
   "outputs": [],
   "source": [
    "k = int(0.025*n_cell)\n",
    "print(f\"Auto-selected k is :{k}\")"
   ]
  },
  {
   "cell_type": "code",
   "execution_count": null,
   "id": "aa86dcc4",
   "metadata": {},
   "outputs": [],
   "source": [
    "oracle.knn_imputation(n_pca_dims=n_comps, k=k, balanced=True, b_sight=k*8,\n",
    "                      b_maxl=k*4, n_jobs=4)"
   ]
  },
  {
   "cell_type": "code",
   "execution_count": null,
   "id": "2c5e8609",
   "metadata": {},
   "outputs": [],
   "source": [
    "# Save oracle object.\n",
    "oracle.to_hdf5(\"/media/Scratch_SSD_Voyager/Blue/KPMP_10X/KPMP_Ref_analysis_12-2020/Celloracle-STR/aSTR.celloracle.oracle\")"
   ]
  },
  {
   "cell_type": "code",
   "execution_count": null,
   "id": "51bc4842",
   "metadata": {},
   "outputs": [],
   "source": [
    "# Load file.\n",
    "oracle = co.load_hdf5(\"/media/Scratch_SSD_Voyager/Blue/KPMP_10X/KPMP_Ref_analysis_12-2020/Celloracle-STR/aSTR.celloracle.oracle\")"
   ]
  },
  {
   "cell_type": "markdown",
   "id": "7bb043e7",
   "metadata": {},
   "source": [
    "# GRN calculation"
   ]
  },
  {
   "cell_type": "code",
   "execution_count": null,
   "id": "fd2d6ab6",
   "metadata": {},
   "outputs": [],
   "source": [
    "%%time\n",
    "# Calculate GRN for each population in \"louvain_annot\" clustering unit.\n",
    "# This step may take long time.(~30 minutes)\n",
    "links = oracle.get_links(cluster_name_for_GRN_unit=\"active_ident\", alpha=10,\n",
    "                         verbose_level=10, test_mode=False)"
   ]
  },
  {
   "cell_type": "code",
   "execution_count": null,
   "id": "64a4135b",
   "metadata": {},
   "outputs": [],
   "source": [
    "# Show the contents of pallete\n",
    "links.palette"
   ]
  },
  {
   "cell_type": "code",
   "execution_count": null,
   "id": "73ea0311",
   "metadata": {},
   "outputs": [],
   "source": [
    "#Network preprocessing\n",
    "links.filter_links(p=0.001, weight=\"coef_abs\", threshold_number=2000)"
   ]
  },
  {
   "cell_type": "code",
   "execution_count": null,
   "id": "a7d818dd",
   "metadata": {},
   "outputs": [],
   "source": [
    "plt.rcParams[\"figure.figsize\"] = [9, 4.5]"
   ]
  },
  {
   "cell_type": "code",
   "execution_count": null,
   "id": "a824b189",
   "metadata": {},
   "outputs": [],
   "source": [
    "links.plot_degree_distributions(plot_model=True,\n",
    "                                               #save=f\"{save_folder}/degree_distribution/\",\n",
    "                                               )"
   ]
  },
  {
   "cell_type": "code",
   "execution_count": null,
   "id": "62335d7a",
   "metadata": {},
   "outputs": [],
   "source": [
    "plt.rcParams[\"figure.figsize\"] = [6, 4.5]"
   ]
  },
  {
   "cell_type": "code",
   "execution_count": null,
   "id": "8e870681",
   "metadata": {},
   "outputs": [],
   "source": [
    "# Calculate network scores. It takes several minutes.\n",
    "links.get_score()"
   ]
  },
  {
   "cell_type": "code",
   "execution_count": null,
   "id": "6ee77af0",
   "metadata": {},
   "outputs": [],
   "source": [
    "links.merged_score.head()"
   ]
  },
  {
   "cell_type": "code",
   "execution_count": null,
   "id": "81c46074",
   "metadata": {},
   "outputs": [],
   "source": [
    "# Save as csv\n",
    "links.merged_score.to_csv(f\"{save_folder}/Merged_Links_Scores_for_STR.csv\")"
   ]
  },
  {
   "cell_type": "code",
   "execution_count": null,
   "id": "0f055120",
   "metadata": {},
   "outputs": [],
   "source": [
    "# Save Links object.\n",
    "links.to_hdf5(file_path=\"/media/Scratch_SSD_Voyager/Blue/KPMP_10X/KPMP_Ref_analysis_12-2020/Celloracle-STR/STR_links.celloracle.links\")"
   ]
  },
  {
   "cell_type": "code",
   "execution_count": null,
   "id": "7830562e",
   "metadata": {},
   "outputs": [],
   "source": [
    "# You can load files with the following command.\n",
    "links = co.load_hdf5(file_path=\"/media/Scratch_SSD_Voyager/Blue/KPMP_10X/KPMP_Ref_analysis_12-2020/Celloracle-STR/STR_links.celloracle.links\")"
   ]
  },
  {
   "cell_type": "markdown",
   "id": "632ba415",
   "metadata": {},
   "source": [
    "# Network analysis; Network score for each gene"
   ]
  },
  {
   "cell_type": "code",
   "execution_count": null,
   "id": "0c6f41d3",
   "metadata": {},
   "outputs": [],
   "source": [
    "#visualize genes with high network centrality\n",
    "# Check cluster name\n",
    "links.cluster"
   ]
  },
  {
   "cell_type": "code",
   "execution_count": null,
   "id": "fc9fb282",
   "metadata": {},
   "outputs": [],
   "source": [
    "# Change the order of pallete\n",
    "order = ['FIB', 'aFIB', 'MYOF']\n",
    "links.palette = links.palette.loc[order]\n",
    "links.palette"
   ]
  },
  {
   "cell_type": "code",
   "execution_count": null,
   "id": "4b70baa2",
   "metadata": {},
   "outputs": [],
   "source": [
    "links.palette.loc['FIB'] = '#562680'\n",
    "links.palette.loc['aFIB'] = '#6F3980'\n",
    "links.palette.loc['MYOF'] = '#AD8AE6'\n",
    "links.palette"
   ]
  },
  {
   "cell_type": "code",
   "execution_count": null,
   "id": "a6d75b58",
   "metadata": {},
   "outputs": [],
   "source": [
    "links.thread_number = [1]"
   ]
  },
  {
   "cell_type": "code",
   "execution_count": null,
   "id": "3834f0a0",
   "metadata": {},
   "outputs": [],
   "source": [
    "# Visualize top n-th genes that have high scores.\n",
    "links.plot_scores_as_rank(cluster=\"FIB\", n_gene=30, save=f\"{save_folder}/ranked_score\")"
   ]
  },
  {
   "cell_type": "code",
   "execution_count": null,
   "id": "a492d23f",
   "metadata": {},
   "outputs": [],
   "source": [
    "# Visualize top n-th genes that have high scores.\n",
    "links.plot_scores_as_rank(cluster=\"aFIB\", n_gene=30, save=f\"{save_folder}/ranked_score\")"
   ]
  },
  {
   "cell_type": "code",
   "execution_count": null,
   "id": "542902eb",
   "metadata": {},
   "outputs": [],
   "source": [
    "# Visualize top n-th genes that have high scores.\n",
    "links.plot_scores_as_rank(cluster=\"MYOF\", n_gene=30, save=f\"{save_folder}/ranked_score\")"
   ]
  },
  {
   "cell_type": "code",
   "execution_count": null,
   "id": "8744ca35",
   "metadata": {},
   "outputs": [],
   "source": [
    "plt.ticklabel_format(style='sci',axis='y',scilimits=(0,0))\n",
    "links.plot_score_comparison_2D(value=\"degree_centrality_all\",\n",
    "                               cluster1=\"FIB\", cluster2=\"aFIB\",\n",
    "                               percentile=98, save=f\"{save_folder}/score_comparison\")"
   ]
  },
  {
   "cell_type": "code",
   "execution_count": null,
   "id": "9b433535",
   "metadata": {},
   "outputs": [],
   "source": [
    "plt.ticklabel_format(style='sci',axis='y',scilimits=(0,0))\n",
    "links.plot_score_comparison_2D(value=\"eigenvector_centrality\",\n",
    "                               cluster1=\"FIB\", cluster2=\"aFIB\",\n",
    "                               percentile=98, save=f\"{save_folder}/score_comparison\")"
   ]
  },
  {
   "cell_type": "code",
   "execution_count": null,
   "id": "2daf136d",
   "metadata": {},
   "outputs": [],
   "source": [
    "plt.ticklabel_format(style='sci',axis='y',scilimits=(0,0))\n",
    "links.plot_score_comparison_2D(value=\"betweenness_centrality\",\n",
    "                               cluster1=\"FIB\", cluster2=\"aFIB\",\n",
    "                               percentile=98, save=f\"{save_folder}/score_comparison\")"
   ]
  },
  {
   "cell_type": "code",
   "execution_count": null,
   "id": "3e558136",
   "metadata": {},
   "outputs": [],
   "source": [
    "plt.ticklabel_format(style='sci',axis='y',scilimits=(0,0))\n",
    "links.plot_score_comparison_2D(value=\"degree_centrality_all\",\n",
    "                               cluster1=\"FIB\", cluster2=\"MYOF\",\n",
    "                               percentile=98, save=f\"{save_folder}/score_comparison\")"
   ]
  },
  {
   "cell_type": "code",
   "execution_count": null,
   "id": "30c3e220",
   "metadata": {},
   "outputs": [],
   "source": [
    "plt.ticklabel_format(style='sci',axis='y',scilimits=(0,0))\n",
    "links.plot_score_comparison_2D(value=\"eigenvector_centrality\",\n",
    "                               cluster1=\"FIB\", cluster2=\"MYOF\",\n",
    "                               percentile=98, save=f\"{save_folder}/score_comparison\")"
   ]
  },
  {
   "cell_type": "code",
   "execution_count": null,
   "id": "fd374e7c",
   "metadata": {},
   "outputs": [],
   "source": [
    "plt.ticklabel_format(style='sci',axis='y',scilimits=(0,0))\n",
    "links.plot_score_comparison_2D(value=\"betweenness_centrality\",\n",
    "                               cluster1=\"FIB\", cluster2=\"MYOF\",\n",
    "                               percentile=98, save=f\"{save_folder}/score_comparison\")"
   ]
  },
  {
   "cell_type": "code",
   "execution_count": null,
   "id": "dd442107",
   "metadata": {},
   "outputs": [],
   "source": [
    "plt.ticklabel_format(style='sci',axis='y',scilimits=(0,0))\n",
    "links.plot_score_comparison_2D(value=\"degree_centrality_all\",\n",
    "                               cluster1=\"aFIB\", cluster2=\"MYOF\",\n",
    "                               percentile=98, save=f\"{save_folder}/score_comparison\")"
   ]
  },
  {
   "cell_type": "code",
   "execution_count": null,
   "id": "0e809403",
   "metadata": {},
   "outputs": [],
   "source": [
    "plt.ticklabel_format(style='sci',axis='y',scilimits=(0,0))\n",
    "links.plot_score_comparison_2D(value=\"eigenvector_centrality\",\n",
    "                               cluster1=\"aFIB\", cluster2=\"MYOF\",\n",
    "                               percentile=98, save=f\"{save_folder}/score_comparison\")"
   ]
  },
  {
   "cell_type": "code",
   "execution_count": null,
   "id": "75da8dff",
   "metadata": {},
   "outputs": [],
   "source": [
    "plt.ticklabel_format(style='sci',axis='y',scilimits=(0,0))\n",
    "links.plot_score_comparison_2D(value=\"betweenness_centrality\",\n",
    "                               cluster1=\"aFIB\", cluster2=\"MYOF\",\n",
    "                               percentile=98, save=f\"{save_folder}/score_comparison\")"
   ]
  },
  {
   "cell_type": "code",
   "execution_count": null,
   "id": "1f29a7a1",
   "metadata": {},
   "outputs": [],
   "source": [
    "# Visualize network score dynamics\n",
    "links.plot_score_per_cluster(goi=\"IGF1\", save=f\"{save_folder}/network_score_per_gene/\")"
   ]
  },
  {
   "cell_type": "code",
   "execution_count": null,
   "id": "a7d92578",
   "metadata": {},
   "outputs": [],
   "source": [
    "# Visualize network score dynamics\n",
    "links.plot_score_per_cluster(goi=\"SMAD1\", save=f\"{save_folder}/network_score_per_gene/\")"
   ]
  },
  {
   "cell_type": "code",
   "execution_count": null,
   "id": "4341ed5f",
   "metadata": {},
   "outputs": [],
   "source": [
    "# Visualize network score dynamics\n",
    "links.plot_score_per_cluster(goi=\"FLI1\", save=f\"{save_folder}/network_score_per_gene/\")"
   ]
  },
  {
   "cell_type": "code",
   "execution_count": null,
   "id": "c6dba3d9",
   "metadata": {},
   "outputs": [],
   "source": [
    "# Visualize network score dynamics\n",
    "links.plot_score_per_cluster(goi=\"KLF6\", save=f\"{save_folder}/network_score_per_gene/\")"
   ]
  },
  {
   "cell_type": "code",
   "execution_count": null,
   "id": "0db6b475",
   "metadata": {},
   "outputs": [],
   "source": [
    "# Visualize network score dynamics\n",
    "links.plot_score_per_cluster(goi=\"STAT2\", save=f\"{save_folder}/network_score_per_gene/\")"
   ]
  },
  {
   "cell_type": "code",
   "execution_count": null,
   "id": "6f2c86aa",
   "metadata": {},
   "outputs": [],
   "source": [
    "# Visualize network score dynamics\n",
    "links.plot_score_per_cluster(goi=\"PLAGL1\", save=f\"{save_folder}/network_score_per_gene/\")"
   ]
  },
  {
   "cell_type": "code",
   "execution_count": null,
   "id": "c4c5596d",
   "metadata": {},
   "outputs": [],
   "source": [
    "# Visualize network score dynamics\n",
    "links.plot_score_per_cluster(goi=\"THRB\", save=f\"{save_folder}/network_score_per_gene/\")"
   ]
  },
  {
   "cell_type": "code",
   "execution_count": null,
   "id": "b541a659",
   "metadata": {},
   "outputs": [],
   "source": [
    "# Visualize network score dynamics\n",
    "links.plot_score_per_cluster(goi=\"ETS1\", save=f\"{save_folder}/network_score_per_gene/\")"
   ]
  },
  {
   "cell_type": "code",
   "execution_count": null,
   "id": "f8978b01",
   "metadata": {},
   "outputs": [],
   "source": [
    "# Visualize network score dynamics\n",
    "links.plot_score_per_cluster(goi=\"ZEB1\", save=f\"{save_folder}/network_score_per_gene/\")"
   ]
  },
  {
   "cell_type": "code",
   "execution_count": null,
   "id": "94764d8e",
   "metadata": {},
   "outputs": [],
   "source": [
    "# Visualize network score dynamics\n",
    "links.plot_score_per_cluster(goi=\"NR2F2\", save=f\"{save_folder}/network_score_per_gene/\")"
   ]
  },
  {
   "cell_type": "code",
   "execution_count": null,
   "id": "3647821a",
   "metadata": {},
   "outputs": [],
   "source": [
    "# Visualize network score dynamics\n",
    "links.plot_score_per_cluster(goi=\"MEF2A\", save=f\"{save_folder}/network_score_per_gene/\")"
   ]
  },
  {
   "cell_type": "code",
   "execution_count": null,
   "id": "80b02b85",
   "metadata": {},
   "outputs": [],
   "source": [
    "cluster_name = \"FIB\"\n",
    "filtered_links_df = links.filtered_links[cluster_name]\n",
    "filtered_links_df.head()\n",
    "# Save as csv\n",
    "filtered_links_df.to_csv(f\"{save_folder}/Filtered_Links_for_{cluster_name}_Module.csv\")"
   ]
  },
  {
   "cell_type": "code",
   "execution_count": null,
   "id": "dc037039",
   "metadata": {},
   "outputs": [],
   "source": [
    "cluster_name = \"aFIB\"\n",
    "filtered_links_df = links.filtered_links[cluster_name]\n",
    "filtered_links_df.head()\n",
    "# Save as csv\n",
    "filtered_links_df.to_csv(f\"{save_folder}/Filtered_Links_for_{cluster_name}_Module.csv\")"
   ]
  },
  {
   "cell_type": "code",
   "execution_count": null,
   "id": "5fd427f3",
   "metadata": {},
   "outputs": [],
   "source": [
    "cluster_name = \"MYOF\"\n",
    "filtered_links_df = links.filtered_links[cluster_name]\n",
    "filtered_links_df.head()\n",
    "# Save as csv\n",
    "filtered_links_df.to_csv(f\"{save_folder}/Filtered_Links_for_{cluster_name}_Module.csv\")"
   ]
  }
 ],
 "metadata": {
  "kernelspec": {
   "display_name": "celloracle_env",
   "language": "python",
   "name": "celloracle_env"
  },
  "language_info": {
   "codemirror_mode": {
    "name": "ipython",
    "version": 3
   },
   "file_extension": ".py",
   "mimetype": "text/x-python",
   "name": "python",
   "nbconvert_exporter": "python",
   "pygments_lexer": "ipython3",
   "version": "3.6.13"
  }
 },
 "nbformat": 4,
 "nbformat_minor": 5
}
