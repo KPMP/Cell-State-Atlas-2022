{
 "cells": [
  {
   "cell_type": "code",
   "execution_count": null,
   "id": "4eba77df",
   "metadata": {},
   "outputs": [],
   "source": [
    "import scvelo as scv\n"
   ]
  },
  {
   "cell_type": "code",
   "execution_count": null,
   "id": "ca1fd863",
   "metadata": {},
   "outputs": [],
   "source": [
    "scv.set_figure_params()"
   ]
  },
  {
   "cell_type": "code",
   "execution_count": null,
   "id": "412a5413",
   "metadata": {},
   "outputs": [],
   "source": [
    "adata = scv.read(\"/media/Scratch_SSD_Voyager/Blue/KPMP_10X/KPMP_Ref_analysis_12-2020/scVelo/aTAL_scVelo_annData_object.h5ad\", cache=True)"
   ]
  },
  {
   "cell_type": "code",
   "execution_count": null,
   "id": "334a2659",
   "metadata": {},
   "outputs": [],
   "source": [
    "adata"
   ]
  },
  {
   "cell_type": "code",
   "execution_count": null,
   "id": "db8d49d6",
   "metadata": {},
   "outputs": [],
   "source": [
    "scv.pp.filter_and_normalize(adata, min_shared_counts=20, n_top_genes=2000)"
   ]
  },
  {
   "cell_type": "code",
   "execution_count": null,
   "id": "3341b8b2",
   "metadata": {},
   "outputs": [],
   "source": [
    "scv.pp.moments(adata, n_pcs=30, n_neighbors=30)"
   ]
  },
  {
   "cell_type": "code",
   "execution_count": null,
   "id": "d8309b11",
   "metadata": {},
   "outputs": [],
   "source": [
    "scv.tl.recover_dynamics(adata) ## model"
   ]
  },
  {
   "cell_type": "code",
   "execution_count": null,
   "id": "cf8a4fa8",
   "metadata": {},
   "outputs": [],
   "source": [
    "scv.tl.velocity(adata, mode='dynamical')\n",
    "scv.tl.velocity_graph(adata)"
   ]
  },
  {
   "cell_type": "code",
   "execution_count": null,
   "id": "168929bd",
   "metadata": {},
   "outputs": [],
   "source": [
    "scv.pl.velocity_embedding_stream(adata, basis='umap', color=\"modules\", palette = [\"gray\",\"blue\",\"brown\",\"pink\",\"yellow\"],\n",
    "                         alpha = 0.4, legend_loc = 'none', figsize = [8,6],       \n",
    "                         save='/media/Scratch_SSD_Voyager/Blue/KPMP_10X/KPMP_Ref_analysis_12-2020/scVelo/aTAL_Modules_Stream_Embedding2.png')"
   ]
  },
  {
   "cell_type": "code",
   "execution_count": null,
   "id": "aa2ff21f",
   "metadata": {},
   "outputs": [],
   "source": [
    "scv.pl.proportions(adata, groupby=\"modules\", save='/media/Scratch_SSD_Voyager/Blue/KPMP_10X/KPMP_Ref_analysis_12-2020/scVelo/aTAL_Modules_Proportions.pdf')"
   ]
  },
  {
   "cell_type": "code",
   "execution_count": null,
   "id": "f2796b16",
   "metadata": {},
   "outputs": [],
   "source": [
    "scv.tl.latent_time(adata)\n",
    "scv.pl.scatter(adata, color='latent_time', color_map='gnuplot', size=80, \n",
    "               save='/media/Scratch_SSD_Voyager/Blue/KPMP_10X/KPMP_Ref_analysis_12-2020/scVelo/aTAL_Modules_latent-time.pdf')"
   ]
  },
  {
   "cell_type": "code",
   "execution_count": null,
   "id": "a26a9956",
   "metadata": {},
   "outputs": [],
   "source": [
    "top_genes = adata.var['fit_likelihood'].sort_values(ascending=False).index[:300]\n",
    "scv.pl.heatmap(adata, var_names=top_genes, sortby='latent_time', col_color='modules', \n",
    "               palette = [\"black\",\"blue\",\"brown\",\"pink\",\"yellow\"], n_convolve=100, \n",
    "               save='/media/Scratch_SSD_Voyager/Blue/KPMP_10X/KPMP_Ref_analysis_12-2020/scVelo/aTAL_Modules_latent-time_HeatMap.pdf')"
   ]
  },
  {
   "cell_type": "code",
   "execution_count": null,
   "id": "0ab8587f",
   "metadata": {},
   "outputs": [],
   "source": [
    "adata.var"
   ]
  },
  {
   "cell_type": "code",
   "execution_count": null,
   "id": "aa3b2c70",
   "metadata": {},
   "outputs": [],
   "source": [
    "#Output heatmap table\n",
    "import numpy as np\n",
    "import scipy\n",
    "import pandas as pd\n",
    "var_names=top_genes\n",
    "tkey=\"latent_time\"\n",
    "xkey=\"Ms\"\n",
    "n_convolve=100\n",
    "sort=True\n",
    "\n",
    "time = adata.obs[tkey].values\n",
    "time = time[np.isfinite(time)]\n",
    "X = (adata[:, var_names].layers[xkey]\n",
    "if xkey in adata.layers.keys()\n",
    "else adata[:, var_names].X\n",
    ")\n",
    "\n",
    "if scipy.sparse.issparse(X): X = X.A\n",
    "\n",
    "df = pd.DataFrame(X[np.argsort(time)], columns=var_names)\n",
    "if n_convolve is not None:\n",
    "\tweights = np.ones(n_convolve) / n_convolve\n",
    "\tfor gene in var_names:\n",
    "\t\ttry:\n",
    "\t\t\tdf[gene] = np.convolve(df[gene].values, weights, mode=\"same\")\n",
    "\t\texcept:\n",
    "\t\t\tpass  # e.g. all-zero counts or nans cannot be convolved\n",
    "if sort:\n",
    "\tmax_sort = np.argsort(np.argmax(df.values, axis=0))\n",
    "\tdf = pd.DataFrame(df.values[:, max_sort], columns=df.columns[max_sort])\n",
    "\n",
    "\n",
    "outFILE=\"/media/Scratch_SSD_Voyager/Blue/KPMP_10X/KPMP_Ref_analysis_12-2020/scVelo/df.timeSeries.heatmap.sorted.csv\"\n",
    "df.to_csv(outFILE, header=True,index=False)"
   ]
  },
  {
   "cell_type": "code",
   "execution_count": null,
   "id": "35f1cc2f",
   "metadata": {},
   "outputs": [],
   "source": [
    "top_genes = adata.var['fit_likelihood'].sort_values(ascending=False).index\n",
    "scv.pl.scatter(adata, basis=top_genes[:15], ncols=5, frameon=False, \n",
    "              color=\"modules\", palette = [\"gray\",\"blue\",\"brown\",\"pink\",\"yellow\"])"
   ]
  },
  {
   "cell_type": "code",
   "execution_count": null,
   "id": "29363876",
   "metadata": {},
   "outputs": [],
   "source": [
    "#Cluster-specific top-likelihood genes\n",
    "scv.tl.rank_dynamical_genes(adata, groupby='modules')\n",
    "df = scv.get_df(adata, 'rank_dynamical_genes/names')\n",
    "df.head(10)"
   ]
  },
  {
   "cell_type": "code",
   "execution_count": null,
   "id": "11de345f",
   "metadata": {},
   "outputs": [],
   "source": [
    "outFILE=\"/media/Scratch_SSD_Voyager/Blue/KPMP_10X/KPMP_Ref_analysis_12-2020/scVelo/aTAL_Module-specific_top-likelihood_genes.csv\"\n",
    "df.to_csv(outFILE, header=True,index=False)"
   ]
  },
  {
   "cell_type": "code",
   "execution_count": null,
   "id": "30b89b79",
   "metadata": {},
   "outputs": [],
   "source": [
    "kwargs = dict(frameon=False, size=10, linewidth=1.5,\n",
    "              add_outline='blue, yellow, brown, pink')\n",
    "genes_use = ['BICC1','TNIK','DCDC2','ARHGAP29']\n",
    "outFILE=\"/media/Scratch_SSD_Voyager/Blue/KPMP_10X/KPMP_Ref_analysis_12-2020/scVelo/aTAL_Module-specific_top-likelihood_genes_phase-portraits-gene-set1a.pdf\"\n",
    "scv.pl.scatter(adata, basis=genes_use, ncols=4, color=\"modules\", \n",
    "               palette = [\"gray\",\"blue\",\"brown\",\"pink\",\"yellow\"], **kwargs, save = outFILE)\n",
    "outFILE=\"/media/Scratch_SSD_Voyager/Blue/KPMP_10X/KPMP_Ref_analysis_12-2020/scVelo/aTAL_Module-specific_top-likelihood_genes_phase-portraits-gene-set1b.pdf\"\n",
    "scv.pl.scatter(adata, x='latent_time', ncols=4, y=genes_use, color=\"modules\", \n",
    "               palette = [\"gray\",\"blue\",\"brown\",\"pink\",\"yellow\"], **kwargs, save = outFILE)"
   ]
  },
  {
   "cell_type": "code",
   "execution_count": null,
   "id": "6adca1d8",
   "metadata": {},
   "outputs": [],
   "source": [
    "kwargs = dict(frameon=False, size=10, linewidth=1.5,\n",
    "              add_outline='blue, yellow, brown, pink')\n",
    "genes_use = ['ITGB6','ITGB8','PROM1','HIF1A']\n",
    "outFILE=\"/media/Scratch_SSD_Voyager/Blue/KPMP_10X/KPMP_Ref_analysis_12-2020/scVelo/aTAL_Module-specific_top-likelihood_genes_phase-portraits-gene-set2a.pdf\"\n",
    "scv.pl.scatter(adata, basis=genes_use, ncols=4, color=\"modules\", \n",
    "               palette = [\"gray\",\"blue\",\"brown\",\"pink\",\"yellow\"], **kwargs, save = outFILE)\n",
    "outFILE=\"/media/Scratch_SSD_Voyager/Blue/KPMP_10X/KPMP_Ref_analysis_12-2020/scVelo/aTAL_Module-specific_top-likelihood_genes_phase-portraits-gene-set2b.pdf\"\n",
    "scv.pl.scatter(adata, x='latent_time', ncols=4, y=genes_use, color=\"modules\", \n",
    "               palette = [\"gray\",\"blue\",\"brown\",\"pink\",\"yellow\"], **kwargs, save = outFILE)"
   ]
  },
  {
   "cell_type": "code",
   "execution_count": null,
   "id": "39a2350b",
   "metadata": {},
   "outputs": [],
   "source": [
    "kwargs = dict(frameon=False, size=20, linewidth=1.5)\n",
    "genes_use = ['TNIK','ARHGAP29','ITGB6','TSPAN1']\n",
    "outFILE=\"/media/Scratch_SSD_Voyager/Blue/KPMP_10X/KPMP_Ref_analysis_12-2020/scVelo/aTAL_Module-specific_top-likelihood_genes_phase-portraits-gene-set5a.pdf\"\n",
    "scv.pl.scatter(adata, basis=genes_use, ncols=4, color=\"modules\", \n",
    "               palette = [\"gray\",\"blue\",\"brown\",\"pink\",\"yellow\"], **kwargs, save = outFILE)\n",
    "outFILE=\"/media/Scratch_SSD_Voyager/Blue/KPMP_10X/KPMP_Ref_analysis_12-2020/scVelo/aTAL_Module-specific_top-likelihood_genes_phase-portraits-gene-set5b.pdf\"\n",
    "scv.pl.scatter(adata, x='latent_time', ncols=4, y=genes_use, color=\"modules\", \n",
    "               palette = [\"gray\",\"blue\",\"brown\",\"pink\",\"yellow\"], **kwargs, save = outFILE)"
   ]
  },
  {
   "cell_type": "code",
   "execution_count": null,
   "id": "848df081",
   "metadata": {},
   "outputs": [],
   "source": []
  }
 ],
 "metadata": {
  "kernelspec": {
   "display_name": "py3",
   "language": "python",
   "name": "py3"
  },
  "language_info": {
   "codemirror_mode": {
    "name": "ipython",
    "version": 3
   },
   "file_extension": ".py",
   "mimetype": "text/x-python",
   "name": "python",
   "nbconvert_exporter": "python",
   "pygments_lexer": "ipython3",
   "version": "3.7.6"
  }
 },
 "nbformat": 4,
 "nbformat_minor": 5
}
