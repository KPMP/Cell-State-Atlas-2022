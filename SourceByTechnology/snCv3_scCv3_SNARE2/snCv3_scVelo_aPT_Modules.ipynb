{
 "cells": [
  {
   "cell_type": "code",
   "execution_count": null,
   "id": "4eba77df",
   "metadata": {},
   "outputs": [],
   "source": [
    "import scvelo as scv\n"
   ]
  },
  {
   "cell_type": "code",
   "execution_count": null,
   "id": "ca1fd863",
   "metadata": {},
   "outputs": [],
   "source": [
    "scv.set_figure_params()"
   ]
  },
  {
   "cell_type": "code",
   "execution_count": null,
   "id": "412a5413",
   "metadata": {},
   "outputs": [],
   "source": [
    "adata = scv.read(\"/media/Scratch_SSD_Voyager/Blue/KPMP_10X/KPMP_Ref_analysis_12-2020/scVelo/aPT_scVelo_annData_object.h5ad\", cache=True)"
   ]
  },
  {
   "cell_type": "code",
   "execution_count": null,
   "id": "3462033d",
   "metadata": {},
   "outputs": [],
   "source": [
    "adata"
   ]
  },
  {
   "cell_type": "code",
   "execution_count": null,
   "id": "02f49643",
   "metadata": {},
   "outputs": [],
   "source": [
    "scv.pp.filter_and_normalize(adata, min_shared_counts=20, n_top_genes=2000)"
   ]
  },
  {
   "cell_type": "code",
   "execution_count": null,
   "id": "9df1adce",
   "metadata": {},
   "outputs": [],
   "source": [
    "scv.pp.moments(adata, n_pcs=30, n_neighbors=30)"
   ]
  },
  {
   "cell_type": "code",
   "execution_count": null,
   "id": "82eeb108",
   "metadata": {},
   "outputs": [],
   "source": [
    "scv.tl.recover_dynamics(adata) ## model"
   ]
  },
  {
   "cell_type": "code",
   "execution_count": null,
   "id": "cf8a4fa8",
   "metadata": {},
   "outputs": [],
   "source": [
    "scv.tl.velocity(adata, mode='dynamical')\n",
    "scv.tl.velocity_graph(adata)"
   ]
  },
  {
   "cell_type": "code",
   "execution_count": null,
   "id": "b3619738",
   "metadata": {},
   "outputs": [],
   "source": [
    "scv.pl.velocity_embedding_stream(adata, basis='umap', color=\"modules\", palette = [\"#6699CC\",\"gray\",\"magenta\",\"red\",\"turquoise\",\"yellow\"],\n",
    "                          save='/media/Scratch_SSD_Voyager/Blue/KPMP_10X/KPMP_Ref_analysis_12-2020/scVelo/aPT_Modules_Stream_Embedding.pdf')"
   ]
  },
  {
   "cell_type": "code",
   "execution_count": null,
   "id": "d283cecc",
   "metadata": {},
   "outputs": [],
   "source": [
    "scv.pl.proportions(adata, groupby=\"modules\", \n",
    "                   save='/media/Scratch_SSD_Voyager/Blue/KPMP_10X/KPMP_Ref_analysis_12-2020/scVelo/aPT_Modules_Proportions.pdf')"
   ]
  }
 ],
 "metadata": {
  "kernelspec": {
   "display_name": "py3",
   "language": "python",
   "name": "py3"
  },
  "language_info": {
   "codemirror_mode": {
    "name": "ipython",
    "version": 3
   },
   "file_extension": ".py",
   "mimetype": "text/x-python",
   "name": "python",
   "nbconvert_exporter": "python",
   "pygments_lexer": "ipython3",
   "version": "3.7.6"
  }
 },
 "nbformat": 4,
 "nbformat_minor": 5
}
