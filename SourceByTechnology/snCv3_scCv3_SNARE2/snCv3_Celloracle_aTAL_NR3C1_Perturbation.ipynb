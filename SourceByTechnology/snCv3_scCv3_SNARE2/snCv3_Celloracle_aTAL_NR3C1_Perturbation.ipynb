{
 "cells": [
  {
   "cell_type": "markdown",
   "id": "82a7bf50",
   "metadata": {},
   "source": [
    "# Import libraries"
   ]
  },
  {
   "cell_type": "code",
   "execution_count": null,
   "id": "b2ef388e",
   "metadata": {},
   "outputs": [],
   "source": [
    "import os\n",
    "import sys\n",
    "\n",
    "import matplotlib.colors as colors\n",
    "import matplotlib.pyplot as plt\n",
    "import numpy as np\n",
    "import pandas as pd\n",
    "import scanpy as sc\n",
    "import seaborn as sns"
   ]
  },
  {
   "cell_type": "code",
   "execution_count": null,
   "id": "cf0951e5",
   "metadata": {},
   "outputs": [],
   "source": [
    "import celloracle as co\n",
    "co.__version__"
   ]
  },
  {
   "cell_type": "code",
   "execution_count": null,
   "id": "d0e9930d",
   "metadata": {},
   "outputs": [],
   "source": [
    "#plt.rcParams[\"font.family\"] = \"arial\"\n",
    "plt.rcParams[\"figure.figsize\"] = [6,6]\n",
    "%config InlineBackend.figure_format = 'retina'\n",
    "plt.rcParams[\"savefig.dpi\"] = 600\n",
    "\n",
    "%matplotlib inline"
   ]
  },
  {
   "cell_type": "code",
   "execution_count": null,
   "id": "aa6df110",
   "metadata": {},
   "outputs": [],
   "source": [
    "save_folder = \"/media/Scratch_SSD_Voyager/Blue/KPMP_10X/KPMP_Ref_analysis_12-2020/Celloracle2/Figures\"\n",
    "os.makedirs(save_folder, exist_ok=True)"
   ]
  },
  {
   "cell_type": "markdown",
   "id": "0f65d988",
   "metadata": {},
   "source": [
    "# Load data"
   ]
  },
  {
   "cell_type": "code",
   "execution_count": null,
   "id": "c01e71e8",
   "metadata": {},
   "outputs": [],
   "source": [
    "# Load file.\n",
    "oracle = co.load_hdf5(\"/media/Scratch_SSD_Voyager/Blue/KPMP_10X/KPMP_Ref_analysis_12-2020/Celloracle2/aTAL_Trajectory.celloracle.oracle\")\n",
    "oracle"
   ]
  },
  {
   "cell_type": "code",
   "execution_count": null,
   "id": "f85b124c",
   "metadata": {},
   "outputs": [],
   "source": [
    "# You can load files with the following command.\n",
    "links = co.load_hdf5(file_path=\"/media/Scratch_SSD_Voyager/Blue/KPMP_10X/KPMP_Ref_analysis_12-2020/Celloracle2/aTAL_Trajectory_links.celloracle.links\")"
   ]
  },
  {
   "cell_type": "markdown",
   "id": "9de2dc49",
   "metadata": {},
   "source": [
    "# Make predictive models for simulation"
   ]
  },
  {
   "cell_type": "code",
   "execution_count": null,
   "id": "843ef4b0",
   "metadata": {},
   "outputs": [],
   "source": [
    "links.filter_links()\n",
    "oracle.get_cluster_specific_TFdict_from_Links(links_object=links)\n",
    "oracle.fit_GRN_for_simulation(alpha=10, use_cluster_specific_TFdict=True)"
   ]
  },
  {
   "cell_type": "markdown",
   "id": "c4bb011f",
   "metadata": {},
   "source": [
    "# In silico TF perturbation analysis"
   ]
  },
  {
   "cell_type": "code",
   "execution_count": null,
   "id": "89dd7b26",
   "metadata": {},
   "outputs": [],
   "source": [
    "# Check gene expression\n",
    "goi = \"NR3C1\"\n",
    "sc.pl.umap(oracle.adata, color=[goi, oracle.cluster_column_name],\n",
    "                 layer=\"imputed_count\", use_raw=False, cmap=\"viridis\")"
   ]
  },
  {
   "cell_type": "code",
   "execution_count": null,
   "id": "2829a3fb",
   "metadata": {},
   "outputs": [],
   "source": [
    "sc.get.obs_df(oracle.adata, keys=[goi], layer=\"imputed_count\").hist()\n",
    "plt.show()"
   ]
  },
  {
   "cell_type": "code",
   "execution_count": null,
   "id": "d8718da4",
   "metadata": {},
   "outputs": [],
   "source": [
    "# Enter perturbation conditions to simulate signal propagation after the perturbation.\n",
    "oracle.simulate_shift(perturb_condition={goi: 0.0},\n",
    "                      n_propagation=3)"
   ]
  },
  {
   "cell_type": "code",
   "execution_count": null,
   "id": "93c3b943",
   "metadata": {},
   "outputs": [],
   "source": [
    "# Get transition probability\n",
    "oracle.estimate_transition_prob(n_neighbors=200,\n",
    "                                knn_random=True,\n",
    "                                sampled_fraction=1)\n",
    "\n",
    "# Calculate embedding\n",
    "oracle.calculate_embedding_shift(sigma_corr=0.05)"
   ]
  },
  {
   "cell_type": "code",
   "execution_count": null,
   "id": "2ab7bf1a",
   "metadata": {},
   "outputs": [],
   "source": [
    "fig, ax = plt.subplots(1, 2,  figsize=[13, 6])\n",
    "\n",
    "scale = 25\n",
    "# Show quiver plot\n",
    "oracle.plot_quiver(scale=scale, ax=ax[0])\n",
    "ax[0].set_title(f\"Perturbation simulation results: {goi} KO\")\n",
    "\n",
    "# Show quiver plot that was calculated with randomized GRN.\n",
    "oracle.plot_quiver_random(scale=scale, ax=ax[1])\n",
    "ax[1].set_title(f\"Perturbation simulation with randomized GRNs\")\n",
    "\n",
    "plt.show()"
   ]
  },
  {
   "cell_type": "code",
   "execution_count": null,
   "id": "b497000f",
   "metadata": {},
   "outputs": [],
   "source": [
    "# n_grid = 40 is a good starting value.\n",
    "n_grid = 40\n",
    "oracle.calculate_p_mass(smooth=0.8, n_grid=n_grid, n_neighbors=200)"
   ]
  },
  {
   "cell_type": "code",
   "execution_count": null,
   "id": "de3f4726",
   "metadata": {},
   "outputs": [],
   "source": [
    "# Search for best min_mass.\n",
    "oracle.suggest_mass_thresholds(n_suggestion=12)"
   ]
  },
  {
   "cell_type": "code",
   "execution_count": null,
   "id": "3fb88403",
   "metadata": {},
   "outputs": [],
   "source": [
    "min_mass = 47\n",
    "oracle.calculate_mass_filter(min_mass=min_mass, plot=True)"
   ]
  },
  {
   "cell_type": "markdown",
   "id": "5d76d66f",
   "metadata": {},
   "source": [
    "# Plot vector fields"
   ]
  },
  {
   "cell_type": "code",
   "execution_count": null,
   "id": "0d72f6f9",
   "metadata": {},
   "outputs": [],
   "source": [
    "fig, ax = plt.subplots(1, 2,  figsize=[13, 6])\n",
    "\n",
    "scale_simulation = 10\n",
    "# Show quiver plot\n",
    "oracle.plot_simulation_flow_on_grid(scale=scale_simulation, ax=ax[0])\n",
    "ax[0].set_title(f\"Perturbation simulation results: {goi} KO\")\n",
    "\n",
    "# Show quiver plot that was calculated with randomized GRN.\n",
    "oracle.plot_simulation_flow_random_on_grid(scale=scale_simulation, ax=ax[1])\n",
    "ax[1].set_title(f\"Perturbation simulation with randomized GRNs\")\n",
    "\n",
    "plt.show()"
   ]
  },
  {
   "cell_type": "code",
   "execution_count": null,
   "id": "f2c6968e",
   "metadata": {},
   "outputs": [],
   "source": [
    "# Plot vector field with cell cluster\n",
    "fig, ax = plt.subplots(figsize=[8, 8])\n",
    "\n",
    "oracle.plot_cluster_whole(ax=ax, s=10)\n",
    "oracle.plot_simulation_flow_on_grid(scale=scale_simulation, ax=ax, show_background=False)"
   ]
  },
  {
   "cell_type": "code",
   "execution_count": null,
   "id": "db8618be",
   "metadata": {},
   "outputs": [],
   "source": [
    "#Reverse pseudotime\n",
    "x = oracle.adata.obs['pseudotime']\n",
    "y = -x + max(x) + min(x)\n",
    "oracle.adata.obs['pseudotime'] = y"
   ]
  },
  {
   "cell_type": "code",
   "execution_count": null,
   "id": "92dd39d4",
   "metadata": {},
   "outputs": [],
   "source": [
    "# Visualize pseudotime\n",
    "fig, ax = plt.subplots(figsize=[6,6])\n",
    "\n",
    "sc.pl.embedding(adata=oracle.adata, basis=oracle.embedding_name, ax=ax, cmap=\"rainbow\",\n",
    "                color=[\"pseudotime\"])"
   ]
  },
  {
   "cell_type": "code",
   "execution_count": null,
   "id": "d74358d8",
   "metadata": {},
   "outputs": [],
   "source": [
    "from celloracle.applications import Gradient_calculator\n",
    "\n",
    "# Instantiate Gradient calculator object\n",
    "gradient = Gradient_calculator(oracle_object=oracle, pseudotime_key=\"pseudotime\")"
   ]
  },
  {
   "cell_type": "code",
   "execution_count": null,
   "id": "85979328",
   "metadata": {},
   "outputs": [],
   "source": [
    "gradient.calculate_p_mass(smooth=0.8, n_grid=n_grid, n_neighbors=200)\n",
    "gradient.calculate_mass_filter(min_mass=min_mass, plot=True)"
   ]
  },
  {
   "cell_type": "code",
   "execution_count": null,
   "id": "037f8e22",
   "metadata": {},
   "outputs": [],
   "source": [
    "gradient.transfer_data_into_grid(args={\"method\": \"knn\", \"n_knn\":50}, plot=True)"
   ]
  },
  {
   "cell_type": "code",
   "execution_count": null,
   "id": "b0faba72",
   "metadata": {},
   "outputs": [],
   "source": [
    "# Calculate graddient\n",
    "gradient.calculate_gradient()\n",
    "\n",
    "# Show results\n",
    "scale_dev = 40\n",
    "gradient.visualize_results(scale=scale_dev, s=5)"
   ]
  },
  {
   "cell_type": "code",
   "execution_count": null,
   "id": "80494866",
   "metadata": {},
   "outputs": [],
   "source": [
    "# Visualize results\n",
    "fig, ax = plt.subplots(figsize=[6, 6])\n",
    "gradient.plot_dev_flow_on_grid(scale=scale_dev, ax=ax)"
   ]
  },
  {
   "cell_type": "code",
   "execution_count": null,
   "id": "74d6b01e",
   "metadata": {},
   "outputs": [],
   "source": [
    "# Save gradient object if you want.\n",
    "#gradient.to_hdf5(\"/media/Scratch_SSD_Voyager/Blue/KPMP_10X/KPMP_Ref_analysis_12-2020/Celloracle2/aTAL.Module.celloracle.gradient\")"
   ]
  },
  {
   "cell_type": "code",
   "execution_count": null,
   "id": "2064f359",
   "metadata": {},
   "outputs": [],
   "source": [
    "from celloracle.applications import Oracle_development_module\n",
    "\n",
    "# Make Oracle_development_module to compare two vector field\n",
    "dev = Oracle_development_module()\n",
    "\n",
    "# Load development flow\n",
    "dev.load_differentiation_reference_data(gradient_object=gradient)\n",
    "\n",
    "# Load simulation result\n",
    "dev.load_perturb_simulation_data(oracle_object=oracle)\n",
    "\n",
    "\n",
    "# Calculate inner produc scores\n",
    "dev.calculate_inner_product()\n",
    "dev.calculate_digitized_ip(n_bins=10)"
   ]
  },
  {
   "cell_type": "code",
   "execution_count": null,
   "id": "1b8f0f8e",
   "metadata": {},
   "outputs": [],
   "source": [
    "# Let's visualize the results\n",
    "dev.visualize_development_module_layout_0(s=5,\n",
    "                                          scale_for_simulation=scale_simulation,\n",
    "                                          s_grid=50,\n",
    "                                          scale_for_pseudotime=scale_dev,\n",
    "                                          vm=0.5)"
   ]
  },
  {
   "cell_type": "code",
   "execution_count": null,
   "id": "272f5ad1",
   "metadata": {},
   "outputs": [],
   "source": [
    "# Show perturbation scores\n",
    "fig, ax = plt.subplots(figsize=[6, 6])\n",
    "dev.plot_inner_product_on_grid(vm=0.5, s=50, ax=ax)"
   ]
  },
  {
   "cell_type": "code",
   "execution_count": null,
   "id": "c8544362",
   "metadata": {},
   "outputs": [],
   "source": [
    "# Show perturbation scores with perturbation simulation vector field\n",
    "fig, ax = plt.subplots(figsize=[6, 6])\n",
    "dev.plot_inner_product_on_grid(vm=0.5, s=50, ax=ax)\n",
    "dev.plot_simulation_flow_on_grid(scale=scale_simulation, show_background=False, ax=ax)"
   ]
  }
 ],
 "metadata": {
  "kernelspec": {
   "display_name": "celloracle_env",
   "language": "python",
   "name": "celloracle_env"
  },
  "language_info": {
   "codemirror_mode": {
    "name": "ipython",
    "version": 3
   },
   "file_extension": ".py",
   "mimetype": "text/x-python",
   "name": "python",
   "nbconvert_exporter": "python",
   "pygments_lexer": "ipython3",
   "version": "3.6.13"
  }
 },
 "nbformat": 4,
 "nbformat_minor": 5
}
